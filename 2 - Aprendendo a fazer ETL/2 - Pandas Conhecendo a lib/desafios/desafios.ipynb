{
  "cells": [
    {
      "cell_type": "markdown",
      "metadata": {
        "id": "goua7aDHJVFQ"
      },
      "source": [
        "## Descrição\n",
        "\n",
        "Esse notebook foi construído para realizar os desafios propostos no final de cada aula do curso **Pandas: conhecendo a biblioteca**"
      ]
    },
    {
      "cell_type": "markdown",
      "metadata": {
        "id": "2osVQB21Jkl0"
      },
      "source": [
        "## Aula 1: Conhecendo a base de dados"
      ]
    },
    {
      "cell_type": "markdown",
      "metadata": {
        "id": "MvoEQ0djJ4zz"
      },
      "source": [
        "### Desafio 1\n",
        "Importe o arquivo [**alunos.csv**](https://raw.githubusercontent.com/alura-cursos/pandas-conhecendo-a-biblioteca/main/desafios/alunos.csv) e armazene seu conteúdo em um DataFrame Pandas"
      ]
    },
    {
      "cell_type": "code",
      "execution_count": 1,
      "metadata": {
        "id": "vGH2QKP6JL-f"
      },
      "outputs": [],
      "source": [
        "import pandas as pd\n",
        "url = \"https://raw.githubusercontent.com/alura-cursos/pandas-conhecendo-a-biblioteca/main/desafios/alunos.csv\""
      ]
    },
    {
      "cell_type": "code",
      "execution_count": 2,
      "metadata": {
        "id": "woFmZUEwKDjH"
      },
      "outputs": [],
      "source": [
        "alunos = pd.read_csv(url)"
      ]
    },
    {
      "cell_type": "markdown",
      "metadata": {
        "id": "_Clm9OC8KEzn"
      },
      "source": [
        "### Desafio 2\n",
        "Visualize as primeiras 7 linhas do DataFrame e as 5 últimas"
      ]
    },
    {
      "cell_type": "code",
      "execution_count": 3,
      "metadata": {
        "id": "dGnHtl0CKVBj"
      },
      "outputs": [
        {
          "data": {
            "text/html": [
              "<div>\n",
              "<style scoped>\n",
              "    .dataframe tbody tr th:only-of-type {\n",
              "        vertical-align: middle;\n",
              "    }\n",
              "\n",
              "    .dataframe tbody tr th {\n",
              "        vertical-align: top;\n",
              "    }\n",
              "\n",
              "    .dataframe thead th {\n",
              "        text-align: right;\n",
              "    }\n",
              "</style>\n",
              "<table border=\"1\" class=\"dataframe\">\n",
              "  <thead>\n",
              "    <tr style=\"text-align: right;\">\n",
              "      <th></th>\n",
              "      <th>Nome</th>\n",
              "      <th>Idade</th>\n",
              "      <th>Notas</th>\n",
              "      <th>Aprovado</th>\n",
              "    </tr>\n",
              "  </thead>\n",
              "  <tbody>\n",
              "    <tr>\n",
              "      <th>0</th>\n",
              "      <td>Ary</td>\n",
              "      <td>20</td>\n",
              "      <td>7.5</td>\n",
              "      <td>True</td>\n",
              "    </tr>\n",
              "    <tr>\n",
              "      <th>1</th>\n",
              "      <td>Ana</td>\n",
              "      <td>18</td>\n",
              "      <td>NaN</td>\n",
              "      <td>False</td>\n",
              "    </tr>\n",
              "    <tr>\n",
              "      <th>2</th>\n",
              "      <td>Cátia</td>\n",
              "      <td>27</td>\n",
              "      <td>2.5</td>\n",
              "      <td>False</td>\n",
              "    </tr>\n",
              "    <tr>\n",
              "      <th>3</th>\n",
              "      <td>Denis</td>\n",
              "      <td>18</td>\n",
              "      <td>5.0</td>\n",
              "      <td>False</td>\n",
              "    </tr>\n",
              "    <tr>\n",
              "      <th>4</th>\n",
              "      <td>Beto</td>\n",
              "      <td>21</td>\n",
              "      <td>10.0</td>\n",
              "      <td>True</td>\n",
              "    </tr>\n",
              "    <tr>\n",
              "      <th>5</th>\n",
              "      <td>Bruna</td>\n",
              "      <td>23</td>\n",
              "      <td>NaN</td>\n",
              "      <td>False</td>\n",
              "    </tr>\n",
              "    <tr>\n",
              "      <th>6</th>\n",
              "      <td>Dara</td>\n",
              "      <td>21</td>\n",
              "      <td>7.0</td>\n",
              "      <td>True</td>\n",
              "    </tr>\n",
              "  </tbody>\n",
              "</table>\n",
              "</div>"
            ],
            "text/plain": [
              "    Nome  Idade  Notas  Aprovado\n",
              "0    Ary     20    7.5      True\n",
              "1    Ana     18    NaN     False\n",
              "2  Cátia     27    2.5     False\n",
              "3  Denis     18    5.0     False\n",
              "4   Beto     21   10.0      True\n",
              "5  Bruna     23    NaN     False\n",
              "6   Dara     21    7.0      True"
            ]
          },
          "execution_count": 3,
          "metadata": {},
          "output_type": "execute_result"
        }
      ],
      "source": [
        "alunos.head(7)"
      ]
    },
    {
      "cell_type": "code",
      "execution_count": 4,
      "metadata": {
        "id": "hksDPBjjKY27"
      },
      "outputs": [
        {
          "data": {
            "text/html": [
              "<div>\n",
              "<style scoped>\n",
              "    .dataframe tbody tr th:only-of-type {\n",
              "        vertical-align: middle;\n",
              "    }\n",
              "\n",
              "    .dataframe tbody tr th {\n",
              "        vertical-align: top;\n",
              "    }\n",
              "\n",
              "    .dataframe thead th {\n",
              "        text-align: right;\n",
              "    }\n",
              "</style>\n",
              "<table border=\"1\" class=\"dataframe\">\n",
              "  <thead>\n",
              "    <tr style=\"text-align: right;\">\n",
              "      <th></th>\n",
              "      <th>Nome</th>\n",
              "      <th>Idade</th>\n",
              "      <th>Notas</th>\n",
              "      <th>Aprovado</th>\n",
              "    </tr>\n",
              "  </thead>\n",
              "  <tbody>\n",
              "    <tr>\n",
              "      <th>13</th>\n",
              "      <td>Mirla</td>\n",
              "      <td>25</td>\n",
              "      <td>9.0</td>\n",
              "      <td>True</td>\n",
              "    </tr>\n",
              "    <tr>\n",
              "      <th>14</th>\n",
              "      <td>Paulo</td>\n",
              "      <td>37</td>\n",
              "      <td>NaN</td>\n",
              "      <td>False</td>\n",
              "    </tr>\n",
              "    <tr>\n",
              "      <th>15</th>\n",
              "      <td>Mylena</td>\n",
              "      <td>29</td>\n",
              "      <td>7.0</td>\n",
              "      <td>True</td>\n",
              "    </tr>\n",
              "    <tr>\n",
              "      <th>16</th>\n",
              "      <td>Lucas</td>\n",
              "      <td>33</td>\n",
              "      <td>NaN</td>\n",
              "      <td>False</td>\n",
              "    </tr>\n",
              "    <tr>\n",
              "      <th>17</th>\n",
              "      <td>Nadia</td>\n",
              "      <td>34</td>\n",
              "      <td>8.0</td>\n",
              "      <td>True</td>\n",
              "    </tr>\n",
              "  </tbody>\n",
              "</table>\n",
              "</div>"
            ],
            "text/plain": [
              "      Nome  Idade  Notas  Aprovado\n",
              "13   Mirla     25    9.0      True\n",
              "14   Paulo     37    NaN     False\n",
              "15  Mylena     29    7.0      True\n",
              "16   Lucas     33    NaN     False\n",
              "17   Nadia     34    8.0      True"
            ]
          },
          "execution_count": 4,
          "metadata": {},
          "output_type": "execute_result"
        }
      ],
      "source": [
        "alunos.tail()"
      ]
    },
    {
      "cell_type": "markdown",
      "metadata": {
        "id": "5h6GhVJJKZZn"
      },
      "source": [
        "### Desafio 3\n",
        "Confira a quantidade de linhas e colunas do DataFrame"
      ]
    },
    {
      "cell_type": "code",
      "execution_count": 5,
      "metadata": {
        "id": "Na2Hb-rlKfBy"
      },
      "outputs": [
        {
          "data": {
            "text/plain": [
              "(18, 4)"
            ]
          },
          "execution_count": 5,
          "metadata": {},
          "output_type": "execute_result"
        }
      ],
      "source": [
        "alunos.shape"
      ]
    },
    {
      "cell_type": "markdown",
      "metadata": {
        "id": "ci0j5pcMKgbr"
      },
      "source": [
        "### Desafio 4\n",
        "Explore as colunas do DataFrame e analise os tipos dos dados presentes em cada coluna"
      ]
    },
    {
      "cell_type": "code",
      "execution_count": 7,
      "metadata": {
        "id": "BcZUf6dwKjk7"
      },
      "outputs": [
        {
          "data": {
            "text/plain": [
              "0           Ary\n",
              "1           Ana\n",
              "2         Cátia\n",
              "3         Denis\n",
              "4          Beto\n",
              "5         Bruna\n",
              "6          Dara\n",
              "7        Carlos\n",
              "8         Alice\n",
              "9         Vitor\n",
              "10       Daniel\n",
              "11         Igor\n",
              "12    Sthefanie\n",
              "13        Mirla\n",
              "14        Paulo\n",
              "15       Mylena\n",
              "16        Lucas\n",
              "17        Nadia\n",
              "Name: Nome, dtype: object"
            ]
          },
          "execution_count": 7,
          "metadata": {},
          "output_type": "execute_result"
        }
      ],
      "source": [
        "alunos.Nome"
      ]
    },
    {
      "cell_type": "code",
      "execution_count": 8,
      "metadata": {
        "id": "QHCBKee6Kkj7"
      },
      "outputs": [
        {
          "data": {
            "text/plain": [
              "0     20\n",
              "1     18\n",
              "2     27\n",
              "3     18\n",
              "4     21\n",
              "5     23\n",
              "6     21\n",
              "7     19\n",
              "8     35\n",
              "9     28\n",
              "10    21\n",
              "11    24\n",
              "12    26\n",
              "13    25\n",
              "14    37\n",
              "15    29\n",
              "16    33\n",
              "17    34\n",
              "Name: Idade, dtype: int64"
            ]
          },
          "execution_count": 8,
          "metadata": {},
          "output_type": "execute_result"
        }
      ],
      "source": [
        "alunos.Idade"
      ]
    },
    {
      "cell_type": "code",
      "execution_count": 9,
      "metadata": {
        "id": "xPQMDDaVKlLB"
      },
      "outputs": [
        {
          "data": {
            "text/plain": [
              "0      7.5\n",
              "1      NaN\n",
              "2      2.5\n",
              "3      5.0\n",
              "4     10.0\n",
              "5      NaN\n",
              "6      7.0\n",
              "7      6.0\n",
              "8      5.6\n",
              "9      NaN\n",
              "10     NaN\n",
              "11     4.5\n",
              "12     9.5\n",
              "13     9.0\n",
              "14     NaN\n",
              "15     7.0\n",
              "16     NaN\n",
              "17     8.0\n",
              "Name: Notas, dtype: float64"
            ]
          },
          "execution_count": 9,
          "metadata": {},
          "output_type": "execute_result"
        }
      ],
      "source": [
        "alunos.Notas"
      ]
    },
    {
      "cell_type": "code",
      "execution_count": 10,
      "metadata": {
        "id": "SFHoqZvlKldl"
      },
      "outputs": [
        {
          "data": {
            "text/plain": [
              "0      True\n",
              "1     False\n",
              "2     False\n",
              "3     False\n",
              "4      True\n",
              "5     False\n",
              "6      True\n",
              "7      True\n",
              "8     False\n",
              "9     False\n",
              "10    False\n",
              "11    False\n",
              "12     True\n",
              "13     True\n",
              "14    False\n",
              "15     True\n",
              "16    False\n",
              "17     True\n",
              "Name: Aprovado, dtype: bool"
            ]
          },
          "execution_count": 10,
          "metadata": {},
          "output_type": "execute_result"
        }
      ],
      "source": [
        "alunos.Aprovado"
      ]
    },
    {
      "cell_type": "markdown",
      "metadata": {
        "id": "jR8mayuIKl0m"
      },
      "source": [
        "### **Extra**\n",
        "Calcule algumas estatísticas descritivas básicas dos dados do DataFrame (média, desvio padrão, etc) - Dica: pesquise pelo método **describe**"
      ]
    },
    {
      "cell_type": "code",
      "execution_count": 11,
      "metadata": {
        "id": "tE07xd72KrE1"
      },
      "outputs": [
        {
          "data": {
            "text/html": [
              "<div>\n",
              "<style scoped>\n",
              "    .dataframe tbody tr th:only-of-type {\n",
              "        vertical-align: middle;\n",
              "    }\n",
              "\n",
              "    .dataframe tbody tr th {\n",
              "        vertical-align: top;\n",
              "    }\n",
              "\n",
              "    .dataframe thead th {\n",
              "        text-align: right;\n",
              "    }\n",
              "</style>\n",
              "<table border=\"1\" class=\"dataframe\">\n",
              "  <thead>\n",
              "    <tr style=\"text-align: right;\">\n",
              "      <th></th>\n",
              "      <th>Idade</th>\n",
              "      <th>Notas</th>\n",
              "    </tr>\n",
              "  </thead>\n",
              "  <tbody>\n",
              "    <tr>\n",
              "      <th>count</th>\n",
              "      <td>18.000000</td>\n",
              "      <td>12.000000</td>\n",
              "    </tr>\n",
              "    <tr>\n",
              "      <th>mean</th>\n",
              "      <td>25.500000</td>\n",
              "      <td>6.800000</td>\n",
              "    </tr>\n",
              "    <tr>\n",
              "      <th>std</th>\n",
              "      <td>6.070662</td>\n",
              "      <td>2.204953</td>\n",
              "    </tr>\n",
              "    <tr>\n",
              "      <th>min</th>\n",
              "      <td>18.000000</td>\n",
              "      <td>2.500000</td>\n",
              "    </tr>\n",
              "    <tr>\n",
              "      <th>25%</th>\n",
              "      <td>21.000000</td>\n",
              "      <td>5.450000</td>\n",
              "    </tr>\n",
              "    <tr>\n",
              "      <th>50%</th>\n",
              "      <td>24.500000</td>\n",
              "      <td>7.000000</td>\n",
              "    </tr>\n",
              "    <tr>\n",
              "      <th>75%</th>\n",
              "      <td>28.750000</td>\n",
              "      <td>8.250000</td>\n",
              "    </tr>\n",
              "    <tr>\n",
              "      <th>max</th>\n",
              "      <td>37.000000</td>\n",
              "      <td>10.000000</td>\n",
              "    </tr>\n",
              "  </tbody>\n",
              "</table>\n",
              "</div>"
            ],
            "text/plain": [
              "           Idade      Notas\n",
              "count  18.000000  12.000000\n",
              "mean   25.500000   6.800000\n",
              "std     6.070662   2.204953\n",
              "min    18.000000   2.500000\n",
              "25%    21.000000   5.450000\n",
              "50%    24.500000   7.000000\n",
              "75%    28.750000   8.250000\n",
              "max    37.000000  10.000000"
            ]
          },
          "execution_count": 11,
          "metadata": {},
          "output_type": "execute_result"
        }
      ],
      "source": [
        "alunos.describe()"
      ]
    },
    {
      "cell_type": "markdown",
      "metadata": {
        "id": "uMA6kKxSKtZ6"
      },
      "source": [
        "## Aula 2: Análise exploratória dos dados"
      ]
    },
    {
      "cell_type": "markdown",
      "metadata": {
        "id": "eQ6g_wYOiHSM"
      },
      "source": [
        "Para os desafios dessa aula, vamos utilizar a mesma base de dados que estamos utilizando para o desenvolvimento do nosso projeto. Sendo assim, na célula abaixo vamos realizar a importação dessa base de dados e aplicar as transformações já realizadas até o momento da aula 2."
      ]
    },
    {
      "cell_type": "code",
      "execution_count": 12,
      "metadata": {
        "id": "k0kz48JCgTep"
      },
      "outputs": [],
      "source": [
        "import pandas as pd"
      ]
    },
    {
      "cell_type": "code",
      "execution_count": 13,
      "metadata": {
        "id": "dUODdE3QidZ_"
      },
      "outputs": [],
      "source": [
        "# importando a base de dados\n",
        "url = 'https://raw.githubusercontent.com/alura-cursos/pandas-conhecendo-a-biblioteca/main/base-de-dados/aluguel.csv'\n",
        "dados = pd.read_csv(url, sep=';')"
      ]
    },
    {
      "cell_type": "code",
      "execution_count": 15,
      "metadata": {
        "colab": {
          "base_uri": "https://localhost:8080/",
          "height": 206
        },
        "id": "y-FDJ89Fi444",
        "outputId": "bab8f8c8-4740-4c68-d405-bd2d77a88dd0"
      },
      "outputs": [
        {
          "data": {
            "text/html": [
              "<div>\n",
              "<style scoped>\n",
              "    .dataframe tbody tr th:only-of-type {\n",
              "        vertical-align: middle;\n",
              "    }\n",
              "\n",
              "    .dataframe tbody tr th {\n",
              "        vertical-align: top;\n",
              "    }\n",
              "\n",
              "    .dataframe thead th {\n",
              "        text-align: right;\n",
              "    }\n",
              "</style>\n",
              "<table border=\"1\" class=\"dataframe\">\n",
              "  <thead>\n",
              "    <tr style=\"text-align: right;\">\n",
              "      <th></th>\n",
              "      <th>Tipo</th>\n",
              "      <th>Bairro</th>\n",
              "      <th>Quartos</th>\n",
              "      <th>Vagas</th>\n",
              "      <th>Suites</th>\n",
              "      <th>Area</th>\n",
              "      <th>Valor</th>\n",
              "      <th>Condominio</th>\n",
              "      <th>IPTU</th>\n",
              "    </tr>\n",
              "  </thead>\n",
              "  <tbody>\n",
              "    <tr>\n",
              "      <th>3</th>\n",
              "      <td>Apartamento</td>\n",
              "      <td>Centro</td>\n",
              "      <td>1</td>\n",
              "      <td>0</td>\n",
              "      <td>0</td>\n",
              "      <td>15</td>\n",
              "      <td>800.0</td>\n",
              "      <td>390.0</td>\n",
              "      <td>20.0</td>\n",
              "    </tr>\n",
              "    <tr>\n",
              "      <th>4</th>\n",
              "      <td>Apartamento</td>\n",
              "      <td>Higienópolis</td>\n",
              "      <td>1</td>\n",
              "      <td>0</td>\n",
              "      <td>0</td>\n",
              "      <td>48</td>\n",
              "      <td>800.0</td>\n",
              "      <td>230.0</td>\n",
              "      <td>NaN</td>\n",
              "    </tr>\n",
              "    <tr>\n",
              "      <th>5</th>\n",
              "      <td>Apartamento</td>\n",
              "      <td>Vista Alegre</td>\n",
              "      <td>3</td>\n",
              "      <td>1</td>\n",
              "      <td>0</td>\n",
              "      <td>70</td>\n",
              "      <td>1200.0</td>\n",
              "      <td>NaN</td>\n",
              "      <td>NaN</td>\n",
              "    </tr>\n",
              "    <tr>\n",
              "      <th>6</th>\n",
              "      <td>Apartamento</td>\n",
              "      <td>Cachambi</td>\n",
              "      <td>2</td>\n",
              "      <td>0</td>\n",
              "      <td>0</td>\n",
              "      <td>50</td>\n",
              "      <td>1300.0</td>\n",
              "      <td>301.0</td>\n",
              "      <td>17.0</td>\n",
              "    </tr>\n",
              "    <tr>\n",
              "      <th>10</th>\n",
              "      <td>Apartamento</td>\n",
              "      <td>Centro</td>\n",
              "      <td>1</td>\n",
              "      <td>0</td>\n",
              "      <td>0</td>\n",
              "      <td>36</td>\n",
              "      <td>1200.0</td>\n",
              "      <td>NaN</td>\n",
              "      <td>NaN</td>\n",
              "    </tr>\n",
              "  </tbody>\n",
              "</table>\n",
              "</div>"
            ],
            "text/plain": [
              "           Tipo        Bairro  Quartos  Vagas  Suites  Area   Valor  \\\n",
              "3   Apartamento        Centro        1      0       0    15   800.0   \n",
              "4   Apartamento  Higienópolis        1      0       0    48   800.0   \n",
              "5   Apartamento  Vista Alegre        3      1       0    70  1200.0   \n",
              "6   Apartamento      Cachambi        2      0       0    50  1300.0   \n",
              "10  Apartamento        Centro        1      0       0    36  1200.0   \n",
              "\n",
              "    Condominio  IPTU  \n",
              "3        390.0  20.0  \n",
              "4        230.0   NaN  \n",
              "5          NaN   NaN  \n",
              "6        301.0  17.0  \n",
              "10         NaN   NaN  "
            ]
          },
          "execution_count": 15,
          "metadata": {},
          "output_type": "execute_result"
        }
      ],
      "source": [
        "imoveis_comerciais = ['Conjunto Comercial/Sala', \n",
        "                      'Prédio Inteiro', 'Loja/Salão', \n",
        "                      'Galpão/Depósito/Armazém', \n",
        "                      'Casa Comercial', 'Terreno Padrão',\n",
        "                      'Loja Shopping/ Ct Comercial',\n",
        "                      'Box/Garagem', 'Chácara',\n",
        "                      'Loteamento/Condomínio', 'Sítio',\n",
        "                      'Pousada/Chalé', 'Hotel', 'Indústria']\n",
        "                      \n",
        "# removendo imóveis comerciais\n",
        "df = dados.query('@imoveis_comerciais not in Tipo')\n",
        "\n",
        "# selecionando apenas imóveis do tipo apartamento\n",
        "df = df.query('Tipo == \"Apartamento\"')\n",
        "\n",
        "# visualizando a base de dados\n",
        "df.head()"
      ]
    },
    {
      "cell_type": "markdown",
      "metadata": {
        "id": "0UIfl11Th0em"
      },
      "source": [
        "### Desafio 1\n",
        "Calcular a média de quartos por apartamento"
      ]
    },
    {
      "cell_type": "code",
      "execution_count": 16,
      "metadata": {
        "id": "VqilmozQKxyM"
      },
      "outputs": [
        {
          "data": {
            "text/plain": [
              "np.float64(2.481568707761622)"
            ]
          },
          "execution_count": 16,
          "metadata": {},
          "output_type": "execute_result"
        }
      ],
      "source": [
        "df.Quartos.mean()"
      ]
    },
    {
      "cell_type": "markdown",
      "metadata": {
        "id": "QHOiAeNKh3eZ"
      },
      "source": [
        "### Desafio 2\n",
        "Conferir quantos bairros únicos existem na nossa base de dados"
      ]
    },
    {
      "cell_type": "code",
      "execution_count": 22,
      "metadata": {
        "id": "OC5iNZ1NjF15"
      },
      "outputs": [
        {
          "data": {
            "text/plain": [
              "149"
            ]
          },
          "execution_count": 22,
          "metadata": {},
          "output_type": "execute_result"
        }
      ],
      "source": [
        "len(df.Bairro.unique())"
      ]
    },
    {
      "cell_type": "code",
      "execution_count": null,
      "metadata": {
        "id": "op-9fs_4h7Zk"
      },
      "outputs": [],
      "source": []
    },
    {
      "cell_type": "markdown",
      "metadata": {
        "id": "TXHm9F56h73J"
      },
      "source": [
        "### Desafio 3\n",
        "Analisar quais bairros possuem a média de valor de aluguel mais elevadas"
      ]
    },
    {
      "cell_type": "code",
      "execution_count": 26,
      "metadata": {
        "id": "0FWQkKEPh_1M"
      },
      "outputs": [
        {
          "data": {
            "text/html": [
              "<div>\n",
              "<style scoped>\n",
              "    .dataframe tbody tr th:only-of-type {\n",
              "        vertical-align: middle;\n",
              "    }\n",
              "\n",
              "    .dataframe tbody tr th {\n",
              "        vertical-align: top;\n",
              "    }\n",
              "\n",
              "    .dataframe thead th {\n",
              "        text-align: right;\n",
              "    }\n",
              "</style>\n",
              "<table border=\"1\" class=\"dataframe\">\n",
              "  <thead>\n",
              "    <tr style=\"text-align: right;\">\n",
              "      <th></th>\n",
              "      <th>Valor</th>\n",
              "    </tr>\n",
              "    <tr>\n",
              "      <th>Bairro</th>\n",
              "      <th></th>\n",
              "    </tr>\n",
              "  </thead>\n",
              "  <tbody>\n",
              "    <tr>\n",
              "      <th>Joá</th>\n",
              "      <td>15500.000000</td>\n",
              "    </tr>\n",
              "    <tr>\n",
              "      <th>Arpoador</th>\n",
              "      <td>12429.769231</td>\n",
              "    </tr>\n",
              "    <tr>\n",
              "      <th>Cidade Jardim</th>\n",
              "      <td>12000.000000</td>\n",
              "    </tr>\n",
              "    <tr>\n",
              "      <th>Ipanema</th>\n",
              "      <td>9487.205317</td>\n",
              "    </tr>\n",
              "    <tr>\n",
              "      <th>Botafogo</th>\n",
              "      <td>9369.207116</td>\n",
              "    </tr>\n",
              "    <tr>\n",
              "      <th>...</th>\n",
              "      <td>...</td>\n",
              "    </tr>\n",
              "    <tr>\n",
              "      <th>Inhoaíba</th>\n",
              "      <td>650.000000</td>\n",
              "    </tr>\n",
              "    <tr>\n",
              "      <th>Cosmos</th>\n",
              "      <td>610.000000</td>\n",
              "    </tr>\n",
              "    <tr>\n",
              "      <th>Santa Cruz</th>\n",
              "      <td>590.000000</td>\n",
              "    </tr>\n",
              "    <tr>\n",
              "      <th>Paciência</th>\n",
              "      <td>510.000000</td>\n",
              "    </tr>\n",
              "    <tr>\n",
              "      <th>Ricardo de Albuquerque</th>\n",
              "      <td>340.000000</td>\n",
              "    </tr>\n",
              "  </tbody>\n",
              "</table>\n",
              "<p>149 rows × 1 columns</p>\n",
              "</div>"
            ],
            "text/plain": [
              "                               Valor\n",
              "Bairro                              \n",
              "Joá                     15500.000000\n",
              "Arpoador                12429.769231\n",
              "Cidade Jardim           12000.000000\n",
              "Ipanema                  9487.205317\n",
              "Botafogo                 9369.207116\n",
              "...                              ...\n",
              "Inhoaíba                  650.000000\n",
              "Cosmos                    610.000000\n",
              "Santa Cruz                590.000000\n",
              "Paciência                 510.000000\n",
              "Ricardo de Albuquerque    340.000000\n",
              "\n",
              "[149 rows x 1 columns]"
            ]
          },
          "execution_count": 26,
          "metadata": {},
          "output_type": "execute_result"
        }
      ],
      "source": [
        "df.groupby(\"Bairro\")[[\"Valor\"]].mean().sort_values(\"Valor\", ascending=False)"
      ]
    },
    {
      "cell_type": "markdown",
      "metadata": {
        "id": "hosuaZ-aiBHB"
      },
      "source": [
        "### Desafio 4\n",
        "Criar um gráfico de barras verticais que apresente os 5 bairros com a média de valor de aluguel mais elevadas"
      ]
    },
    {
      "cell_type": "code",
      "execution_count": 27,
      "metadata": {
        "id": "M7UR4aTBl2nR"
      },
      "outputs": [],
      "source": [
        "df_media_elevada = (\n",
        "    df.groupby(\"Bairro\")[[\"Valor\"]].mean().sort_values(\"Valor\", ascending=False)\n",
        ").head(5)"
      ]
    },
    {
      "cell_type": "code",
      "execution_count": 29,
      "metadata": {
        "id": "u-HoqFKTiESM"
      },
      "outputs": [
        {
          "data": {
            "text/plain": [
              "<Axes: xlabel='Bairro', ylabel='Valor'>"
            ]
          },
          "execution_count": 29,
          "metadata": {},
          "output_type": "execute_result"
        },
        {
          "data": {
            "image/png": "[encoded data removed]",
            "text/plain": [
              "<Figure size 1000x700 with 1 Axes>"
            ]
          },
          "metadata": {},
          "output_type": "display_data"
        }
      ],
      "source": [
        "df_media_elevada.plot(kind=\"bar\", figsize=(10, 7), color=\"blue\", xlabel=\"Bairro\", ylabel=\"Valor\")"
      ]
    },
    {
      "cell_type": "code",
      "execution_count": null,
      "metadata": {
        "id": "7j3wyG0ZklNE"
      },
      "outputs": [],
      "source": []
    },
    {
      "cell_type": "markdown",
      "metadata": {
        "id": "uS2xqXtlZ6wK"
      },
      "source": [
        "## Aula 3\n",
        "\n",
        "Importe novamente o arquivo [**alunos.csv**](https://raw.githubusercontent.com/alura-cursos/pandas-conhecendo-a-biblioteca/main/desafios/alunos.csv) para realizar os desafios abaixo."
      ]
    },
    {
      "cell_type": "code",
      "execution_count": null,
      "metadata": {
        "id": "YqltopXyZ-Zf"
      },
      "outputs": [],
      "source": [
        "# Importando novamente os dados\n"
      ]
    },
    {
      "cell_type": "markdown",
      "metadata": {
        "id": "Yni8_fbgaGnE"
      },
      "source": [
        "### Desafio 1\n",
        "Verifique se a base de dados possui dados nulos e caso tenha, realize o tratamento desses dados nulos"
      ]
    },
    {
      "cell_type": "code",
      "execution_count": null,
      "metadata": {
        "id": "RJVGbJt6aFfe"
      },
      "outputs": [],
      "source": []
    },
    {
      "cell_type": "code",
      "execution_count": null,
      "metadata": {
        "id": "JMRvNgXWa277"
      },
      "outputs": [],
      "source": []
    },
    {
      "cell_type": "code",
      "execution_count": null,
      "metadata": {
        "id": "zCXdr4-8a75S"
      },
      "outputs": [],
      "source": []
    },
    {
      "cell_type": "markdown",
      "metadata": {
        "id": "EEyzMqp2aZDl"
      },
      "source": [
        "### Desafio 2\n",
        "Os alunos \"Alice\" e \"Carlos\", não fazem mais parte da turma. Sendo assim, remova-os da base de dados"
      ]
    },
    {
      "cell_type": "code",
      "execution_count": null,
      "metadata": {
        "id": "gcnTcLGeaflO"
      },
      "outputs": [],
      "source": []
    },
    {
      "cell_type": "code",
      "execution_count": null,
      "metadata": {
        "id": "7fQ5RIs8bLf2"
      },
      "outputs": [],
      "source": []
    },
    {
      "cell_type": "code",
      "execution_count": null,
      "metadata": {
        "id": "h2rhaQaNbNG6"
      },
      "outputs": [],
      "source": []
    },
    {
      "cell_type": "code",
      "execution_count": null,
      "metadata": {
        "id": "lOUcnaHybYSt"
      },
      "outputs": [],
      "source": []
    },
    {
      "cell_type": "markdown",
      "metadata": {
        "id": "OrRUJuutagFZ"
      },
      "source": [
        "### Desafio 3\n",
        "Aplique um filtro que selecione apenas os alunos que foram aprovados"
      ]
    },
    {
      "cell_type": "code",
      "execution_count": null,
      "metadata": {
        "id": "mmF03BpwalK1"
      },
      "outputs": [],
      "source": []
    },
    {
      "cell_type": "code",
      "execution_count": null,
      "metadata": {
        "id": "RiSIxMl2bo3-"
      },
      "outputs": [],
      "source": []
    },
    {
      "cell_type": "markdown",
      "metadata": {
        "id": "tXgoKLW_dMQe"
      },
      "source": [
        "### Desafio 4\n",
        "Salve o DataFrame que possui apenas os alunos aprovados em um arquivo csv chamado \"alunos_aprovados.csv\""
      ]
    },
    {
      "cell_type": "code",
      "execution_count": null,
      "metadata": {
        "id": "f_6HGPUwdQNm"
      },
      "outputs": [],
      "source": []
    },
    {
      "cell_type": "code",
      "execution_count": null,
      "metadata": {
        "id": "KuIG4ZisdULa"
      },
      "outputs": [],
      "source": []
    },
    {
      "cell_type": "code",
      "execution_count": null,
      "metadata": {
        "id": "Q0LAb9-KdZXF"
      },
      "outputs": [],
      "source": []
    },
    {
      "cell_type": "markdown",
      "metadata": {
        "id": "duXAyzYscJFU"
      },
      "source": [
        "### **Extra**\n",
        "Ao conferir as notas dos alunos aprovados, notamos que algumas notas estavam incorretas. As alunas que tiraram nota 7.0, na verdade tinham um ponto extra que não foi contabilizado. Sendo assim, substitua as notas 7.0 da base de dados por 8.0. **Dica**: pesquise pelo método **replace**"
      ]
    },
    {
      "cell_type": "code",
      "execution_count": null,
      "metadata": {
        "id": "NBww4uiodjFd"
      },
      "outputs": [],
      "source": []
    },
    {
      "cell_type": "code",
      "execution_count": null,
      "metadata": {
        "id": "6rXH1Q89btNt"
      },
      "outputs": [],
      "source": []
    },
    {
      "cell_type": "code",
      "execution_count": null,
      "metadata": {
        "id": "bOE85OSfd7KU"
      },
      "outputs": [],
      "source": []
    },
    {
      "cell_type": "markdown",
      "metadata": {
        "id": "jUHA6Z_cy5vc"
      },
      "source": [
        "## Aula 4\n",
        "\n",
        "Importe novamente o arquivo [**alunos.csv**](https://raw.githubusercontent.com/alura-cursos/pandas-conhecendo-a-biblioteca/main/desafios/alunos.csv) para realizar os desafios abaixo."
      ]
    },
    {
      "cell_type": "code",
      "execution_count": null,
      "metadata": {
        "id": "TRLTBVThxo1g"
      },
      "outputs": [],
      "source": [
        "# Importando novamente os dados\n"
      ]
    },
    {
      "cell_type": "markdown",
      "metadata": {
        "id": "-nX3fxz7y8P9"
      },
      "source": [
        "### Desafio 1\n",
        "Os alunos participaram de uma atividade extracurricular e ganharam pontos extras. Esses pontos extras correspondem a 40% da nota atual de cada um deles. Com base nisso, crie uma coluna chamada \"Pontos_extras\" que contenha os pontos extras de cada aluno, ou seja, 40% da nota atual deles"
      ]
    },
    {
      "cell_type": "code",
      "execution_count": null,
      "metadata": {
        "id": "34CKCvGmy7J9"
      },
      "outputs": [],
      "source": []
    },
    {
      "cell_type": "markdown",
      "metadata": {
        "id": "LPbOAgiRzvnf"
      },
      "source": [
        "### Desafio 2\n",
        "Crie mais uma coluna, chamada \"Notas_finais\" que possua as notas de cada aluno somada com os pontos extras"
      ]
    },
    {
      "cell_type": "code",
      "execution_count": null,
      "metadata": {
        "id": "T4wuC339zw_p"
      },
      "outputs": [],
      "source": []
    },
    {
      "cell_type": "markdown",
      "metadata": {
        "id": "8L-b9Hxfz8fo"
      },
      "source": [
        "### Desafio 3\n",
        "Como os alunos ganharam pontos extras, alguns que não tinham sido aprovados antes podem ter sido aprovados agora. Com base nisso, crie uma coluna chamada \"Aprovado_final\" com os seguintes valores:\n",
        "\n",
        "* True: caso o aluno esteja aprovado (nota final deve ser maior ou igual a 6);\n",
        "* False: caso o aluno esteja reprovado (nota final deve ser menor que 6).\n"
      ]
    },
    {
      "cell_type": "code",
      "execution_count": null,
      "metadata": {
        "id": "A6aXkdOsz3DR"
      },
      "outputs": [],
      "source": []
    },
    {
      "cell_type": "markdown",
      "metadata": {
        "id": "UNnNsZYW1Xj_"
      },
      "source": [
        "### Desafio 4\n",
        "Faça uma seleção e verifique quais alunos não tinham sido aprovados anteriormente, mas foram aprovados após a soma dos pontos extras"
      ]
    },
    {
      "cell_type": "code",
      "execution_count": null,
      "metadata": {
        "id": "8BxkbL2N02sp"
      },
      "outputs": [],
      "source": []
    },
    {
      "cell_type": "code",
      "execution_count": null,
      "metadata": {
        "id": "6CzZUbGG8qSq"
      },
      "outputs": [],
      "source": []
    }
  ],
  "metadata": {
    "colab": {
      "provenance": [],
      "toc_visible": true
    },
    "kernelspec": {
      "display_name": "venv",
      "language": "python",
      "name": "python3"
    },
    "language_info": {
      "codemirror_mode": {
        "name": "ipython",
        "version": 3
      },
      "file_extension": ".py",
      "mimetype": "text/x-python",
      "name": "python",
      "nbconvert_exporter": "python",
      "pygments_lexer": "ipython3",
      "version": "3.12.4"
    }
  },
  "nbformat": 4,
  "nbformat_minor": 0
}
