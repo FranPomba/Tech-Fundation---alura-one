{
 "cells": [
  {
   "cell_type": "markdown",
   "id": "1f9eb1e5",
   "metadata": {},
   "source": [
    "- **Projeto desafio 1: vendas online**\n",
    "\n",
    "O objetivo desse projeto é realizar uma análise dos resultados de um evento com os clientes de uma empresa de vendas online. Foi coletado um conjunto de dados que contém os clientes que mais gastaram com produtos dentro de 5 dias de vendas, que é o período de duração do evento. Essa análise vai identificar o cliente com a maior compra na semana, que irá receber um prêmio da loja, e posteriormente, ela pode ajudar a empresa a criar novas estratégias para atrair mais clientes.\n",
    "\n",
    "A base de dados utilizada nessa análise é a dados_vendas_clientes.json e contém informações importantes sobre os clientes como, o nome de cadastro do cliente, o valor total pago na compra e o dia da compra."
   ]
  },
  {
   "cell_type": "code",
   "execution_count": 1,
   "id": "02a8400b",
   "metadata": {},
   "outputs": [],
   "source": [
    "import pandas as pd\n",
    "import requests"
   ]
  },
  {
   "cell_type": "code",
   "execution_count": 2,
   "id": "6b71ee40",
   "metadata": {},
   "outputs": [],
   "source": [
    "uri = \"https://cdn3.gnarususercontent.com.br/2928-transformacao-manipulacao-dados/dados_vendas_clientes.json\""
   ]
  },
  {
   "cell_type": "code",
   "execution_count": 3,
   "id": "a1e55459",
   "metadata": {},
   "outputs": [],
   "source": [
    "request = requests.get(uri)"
   ]
  },
  {
   "cell_type": "code",
   "execution_count": 4,
   "id": "2ae1e359",
   "metadata": {},
   "outputs": [
    {
     "name": "stderr",
     "output_type": "stream",
     "text": [
      "C:\\Users\\Franc\\AppData\\Local\\Temp\\ipykernel_9792\\3358036031.py:1: FutureWarning: Passing literal json to 'read_json' is deprecated and will be removed in a future version. To read from a literal string, wrap it in a 'StringIO' object.\n",
      "  df_vendas_online = pd.read_json(request.text)\n"
     ]
    }
   ],
   "source": [
    "df_vendas_online = pd.read_json(request.text)"
   ]
  },
  {
   "cell_type": "code",
   "execution_count": 5,
   "id": "101365de",
   "metadata": {},
   "outputs": [
    {
     "data": {
      "text/html": [
       "<div>\n",
       "<style scoped>\n",
       "    .dataframe tbody tr th:only-of-type {\n",
       "        vertical-align: middle;\n",
       "    }\n",
       "\n",
       "    .dataframe tbody tr th {\n",
       "        vertical-align: top;\n",
       "    }\n",
       "\n",
       "    .dataframe thead th {\n",
       "        text-align: right;\n",
       "    }\n",
       "</style>\n",
       "<table border=\"1\" class=\"dataframe\">\n",
       "  <thead>\n",
       "    <tr style=\"text-align: right;\">\n",
       "      <th></th>\n",
       "      <th>dados_vendas</th>\n",
       "    </tr>\n",
       "  </thead>\n",
       "  <tbody>\n",
       "    <tr>\n",
       "      <th>0</th>\n",
       "      <td>{'Data de venda': '06/06/2022', 'Cliente': ['@...</td>\n",
       "    </tr>\n",
       "    <tr>\n",
       "      <th>1</th>\n",
       "      <td>{'Data de venda': '07/06/2022', 'Cliente': ['I...</td>\n",
       "    </tr>\n",
       "    <tr>\n",
       "      <th>2</th>\n",
       "      <td>{'Data de venda': '08/06/2022', 'Cliente': ['I...</td>\n",
       "    </tr>\n",
       "    <tr>\n",
       "      <th>3</th>\n",
       "      <td>{'Data de venda': '09/06/2022', 'Cliente': ['J...</td>\n",
       "    </tr>\n",
       "    <tr>\n",
       "      <th>4</th>\n",
       "      <td>{'Data de venda': '10/06/2022', 'Cliente': ['M...</td>\n",
       "    </tr>\n",
       "  </tbody>\n",
       "</table>\n",
       "</div>"
      ],
      "text/plain": [
       "                                        dados_vendas\n",
       "0  {'Data de venda': '06/06/2022', 'Cliente': ['@...\n",
       "1  {'Data de venda': '07/06/2022', 'Cliente': ['I...\n",
       "2  {'Data de venda': '08/06/2022', 'Cliente': ['I...\n",
       "3  {'Data de venda': '09/06/2022', 'Cliente': ['J...\n",
       "4  {'Data de venda': '10/06/2022', 'Cliente': ['M..."
      ]
     },
     "execution_count": 5,
     "metadata": {},
     "output_type": "execute_result"
    }
   ],
   "source": [
    "df_vendas_online"
   ]
  },
  {
   "cell_type": "code",
   "execution_count": 6,
   "id": "c92d7f5d",
   "metadata": {},
   "outputs": [],
   "source": [
    "df_dados_vendas = pd.json_normalize(df_vendas_online[\"dados_vendas\"])"
   ]
  },
  {
   "cell_type": "code",
   "execution_count": 7,
   "id": "9fa93c88",
   "metadata": {},
   "outputs": [
    {
     "data": {
      "text/html": [
       "<div>\n",
       "<style scoped>\n",
       "    .dataframe tbody tr th:only-of-type {\n",
       "        vertical-align: middle;\n",
       "    }\n",
       "\n",
       "    .dataframe tbody tr th {\n",
       "        vertical-align: top;\n",
       "    }\n",
       "\n",
       "    .dataframe thead th {\n",
       "        text-align: right;\n",
       "    }\n",
       "</style>\n",
       "<table border=\"1\" class=\"dataframe\">\n",
       "  <thead>\n",
       "    <tr style=\"text-align: right;\">\n",
       "      <th></th>\n",
       "      <th>Data de venda</th>\n",
       "      <th>Cliente</th>\n",
       "      <th>Valor da compra</th>\n",
       "    </tr>\n",
       "  </thead>\n",
       "  <tbody>\n",
       "    <tr>\n",
       "      <th>0</th>\n",
       "      <td>06/06/2022</td>\n",
       "      <td>[@ANA _LUCIA 321, DieGO ARMANDIU 210, DieGO AR...</td>\n",
       "      <td>[R$ 836,5, R$ 573,33, R$ 392,8, R$ 512,34]</td>\n",
       "    </tr>\n",
       "    <tr>\n",
       "      <th>1</th>\n",
       "      <td>07/06/2022</td>\n",
       "      <td>[Isabely JOanes 738, Isabely JOanes 738, Isabe...</td>\n",
       "      <td>[R$ 825,31, R$ 168,07, R$ 339,18, R$ 314,69]</td>\n",
       "    </tr>\n",
       "    <tr>\n",
       "      <th>2</th>\n",
       "      <td>08/06/2022</td>\n",
       "      <td>[Isabely JOanes 738, JOãO Gabriel 671, Julya m...</td>\n",
       "      <td>[R$ 682,05, R$ 386,34, R$ 622,65, R$ 630,79]</td>\n",
       "    </tr>\n",
       "    <tr>\n",
       "      <th>3</th>\n",
       "      <td>09/06/2022</td>\n",
       "      <td>[Julya meireles 914, MaRIA Julia 444, MaRIA Ju...</td>\n",
       "      <td>[R$ 390,3, R$ 759,16, R$ 334,47, R$ 678,78]</td>\n",
       "    </tr>\n",
       "    <tr>\n",
       "      <th>4</th>\n",
       "      <td>10/06/2022</td>\n",
       "      <td>[MaRIA Julia 444, PEDRO PASCO 812, Paulo castr...</td>\n",
       "      <td>[R$ 314,24, R$ 311,15, R$ 899,16, R$ 885,24]</td>\n",
       "    </tr>\n",
       "  </tbody>\n",
       "</table>\n",
       "</div>"
      ],
      "text/plain": [
       "  Data de venda                                            Cliente  \\\n",
       "0    06/06/2022  [@ANA _LUCIA 321, DieGO ARMANDIU 210, DieGO AR...   \n",
       "1    07/06/2022  [Isabely JOanes 738, Isabely JOanes 738, Isabe...   \n",
       "2    08/06/2022  [Isabely JOanes 738, JOãO Gabriel 671, Julya m...   \n",
       "3    09/06/2022  [Julya meireles 914, MaRIA Julia 444, MaRIA Ju...   \n",
       "4    10/06/2022  [MaRIA Julia 444, PEDRO PASCO 812, Paulo castr...   \n",
       "\n",
       "                                Valor da compra  \n",
       "0    [R$ 836,5, R$ 573,33, R$ 392,8, R$ 512,34]  \n",
       "1  [R$ 825,31, R$ 168,07, R$ 339,18, R$ 314,69]  \n",
       "2  [R$ 682,05, R$ 386,34, R$ 622,65, R$ 630,79]  \n",
       "3   [R$ 390,3, R$ 759,16, R$ 334,47, R$ 678,78]  \n",
       "4  [R$ 314,24, R$ 311,15, R$ 899,16, R$ 885,24]  "
      ]
     },
     "execution_count": 7,
     "metadata": {},
     "output_type": "execute_result"
    }
   ],
   "source": [
    "df_dados_vendas"
   ]
  }
 ],
 "metadata": {
  "kernelspec": {
   "display_name": "venv",
   "language": "python",
   "name": "python3"
  },
  "language_info": {
   "codemirror_mode": {
    "name": "ipython",
    "version": 3
   },
   "file_extension": ".py",
   "mimetype": "text/x-python",
   "name": "python",
   "nbconvert_exporter": "python",
   "pygments_lexer": "ipython3",
   "version": "3.12.4"
  }
 },
 "nbformat": 4,
 "nbformat_minor": 5
}
