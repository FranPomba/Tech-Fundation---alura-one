{
 "cells": [
  {
   "cell_type": "markdown",
   "id": "c97fdd2e",
   "metadata": {},
   "source": [
    "Chegou a hora de testar os conhecimentos desenvolvidos durante a aula.\n",
    "\n",
    "Vanessa é uma cientista de dados que está realizando algumas análises com dados ambientais. Ela está desenvolvendo um projeto para avaliar o impacto ambiental das atividades humanas em diferentes países do mundo, mas para isso precisa das estimativas populacionais desses países. Ao pesquisar na internet, encontrou uma tabela de estimativas populacionais em um artigo da página Wikipédia.\n",
    "\n",
    "Assim como Vanessa, seu desafio é obter um DataFrame da tabela que contém as informações do número de habitantes de cada país."
   ]
  },
  {
   "cell_type": "code",
   "execution_count": 1,
   "id": "e2c10a3b",
   "metadata": {},
   "outputs": [],
   "source": [
    "import pandas as pd"
   ]
  },
  {
   "cell_type": "code",
   "execution_count": 3,
   "id": "8cbd6dc1",
   "metadata": {},
   "outputs": [],
   "source": [
    "uri = \"https://pt.wikipedia.org/wiki/Lista_de_pa%C3%ADses_por_popula%C3%A7%C3%A3o\""
   ]
  },
  {
   "cell_type": "code",
   "execution_count": 4,
   "id": "03e28c1b",
   "metadata": {},
   "outputs": [],
   "source": [
    "dados = pd.read_html(uri)"
   ]
  },
  {
   "cell_type": "code",
   "execution_count": 8,
   "id": "d6237cc5",
   "metadata": {},
   "outputs": [
    {
     "data": {
      "text/plain": [
       "[     Unnamed: 0 Posição    País (ou território dependente) Estimativa da ONU  \\\n",
       " 0           NaN       1                              Índia     1 429 921 746   \n",
       " 1           NaN       2                              China     1 426 391 281   \n",
       " 2           NaN       3                     Estados Unidos       346 353 341   \n",
       " 3           NaN       4                          Indonésia       277 184 719   \n",
       " 4           NaN       5                          Paquistão       240 215 932   \n",
       " ..          ...     ...                                ...               ...   \n",
       " 245         NaN       –     Ilha de Ascensão (Reino Unido)             1 100   \n",
       " 246         NaN     195                           Vaticano               879   \n",
       " 247         NaN       –  Ilhas Cocos (Keeling) (Austrália)               605   \n",
       " 248         NaN       –     Tristão da Cunha (Reino Unido)               264   \n",
       " 249         NaN       –       Ilhas Pitcairn (Reino Unido)                67   \n",
       " \n",
       "     Crescimento desde a última estimativa      Estimativa Oficial  \n",
       " 0                            +269.108.746      Estimativa oficial  \n",
       " 1                             +87.778.313           Censo oficial  \n",
       " 2                             +31.241.565           Censo oficial  \n",
       " 3                             +33.168.546      Estimativa oficial  \n",
       " 4                             +65.636.932      Estimativa oficial  \n",
       " ..                                    ...                     ...  \n",
       " 245                                   NaN  Estimativa oficial[10]  \n",
       " 246                                   NaN      Estimativa oficial  \n",
       " 247                                   NaN      Estimativa oficial  \n",
       " 248                                   NaN  Estimativa oficial[11]  \n",
       " 249                                   NaN      Estimativa oficial  \n",
       " \n",
       " [250 rows x 6 columns],\n",
       "    vdeListas de países                              vdeListas de países.1\n",
       " 0             Ambiente  Bem-estar sustentável Desempenho ambiental Emi...\n",
       " 1              Códigos  COI FIFA FIPS ISO Prefixo naval Telefônicos TL...\n",
       " 2           Demografia  Esperança de vida Fecundidade Imigrantes Morta...\n",
       " 3             Economia  Capacidade Nacional Capital Humano Competitivi...\n",
       " 4              Consumo  Bebidas Cerveja Idade legal Cannabis Adultos C...\n",
       " 5              Energia  Eletricidade Produção Renovável Gás Natural Ex...\n",
       " 6                  PIB  Crescimento Real PIB Nominal per capita PIB po...\n",
       " 7             Produção  Alumínio Antimônio Bauxita Bismuto Carvão Rese...\n",
       " 8           Transporte  Aeroportos Automóveis per capita Produzidos He...\n",
       " 9            Geografia  Área Capital Continente Fronteiras Terrestres ...\n",
       " 10         Militarismo  Armas de fogo Artilharia Batalhas Blindados de...\n",
       " 11              Órgãos  BRICS Commonwealth COI CPLP Estatuto de Roma F...\n",
       " 12            Política  Chefes de Estado e de Governo Constituições Co...\n",
       " 13               Saúde  Antidepressivos HIV/AIDS em adultos Obesidade ...\n",
       " 14            Símbolos  Emblemas Etimologia Gentílicos Grafias múltipl...\n",
       " 15           Sociedade  Aborto Arranha-céus e estruturas Data de funda...,\n",
       "             0                                                  1\n",
       " 0     Consumo  Bebidas Cerveja Idade legal Cannabis Adultos C...\n",
       " 1     Energia  Eletricidade Produção Renovável Gás Natural Ex...\n",
       " 2         PIB  Crescimento Real PIB Nominal per capita PIB po...\n",
       " 3    Produção  Alumínio Antimônio Bauxita Bismuto Carvão Rese...\n",
       " 4  Transporte  Aeroportos Automóveis per capita Produzidos He...]"
      ]
     },
     "execution_count": 8,
     "metadata": {},
     "output_type": "execute_result"
    }
   ],
   "source": [
    "dados"
   ]
  },
  {
   "cell_type": "code",
   "execution_count": 12,
   "id": "ff00d4b8",
   "metadata": {},
   "outputs": [],
   "source": [
    "dados_populacao = dados[0]"
   ]
  },
  {
   "cell_type": "code",
   "execution_count": 14,
   "id": "55001577",
   "metadata": {},
   "outputs": [
    {
     "data": {
      "text/html": [
       "<div>\n",
       "<style scoped>\n",
       "    .dataframe tbody tr th:only-of-type {\n",
       "        vertical-align: middle;\n",
       "    }\n",
       "\n",
       "    .dataframe tbody tr th {\n",
       "        vertical-align: top;\n",
       "    }\n",
       "\n",
       "    .dataframe thead th {\n",
       "        text-align: right;\n",
       "    }\n",
       "</style>\n",
       "<table border=\"1\" class=\"dataframe\">\n",
       "  <thead>\n",
       "    <tr style=\"text-align: right;\">\n",
       "      <th></th>\n",
       "      <th>Unnamed: 0</th>\n",
       "      <th>Posição</th>\n",
       "      <th>País (ou território dependente)</th>\n",
       "      <th>Estimativa da ONU</th>\n",
       "      <th>Crescimento desde a última estimativa</th>\n",
       "      <th>Estimativa Oficial</th>\n",
       "    </tr>\n",
       "  </thead>\n",
       "  <tbody>\n",
       "    <tr>\n",
       "      <th>0</th>\n",
       "      <td>NaN</td>\n",
       "      <td>1</td>\n",
       "      <td>Índia</td>\n",
       "      <td>1 429 921 746</td>\n",
       "      <td>+269.108.746</td>\n",
       "      <td>Estimativa oficial</td>\n",
       "    </tr>\n",
       "    <tr>\n",
       "      <th>1</th>\n",
       "      <td>NaN</td>\n",
       "      <td>2</td>\n",
       "      <td>China</td>\n",
       "      <td>1 426 391 281</td>\n",
       "      <td>+87.778.313</td>\n",
       "      <td>Censo oficial</td>\n",
       "    </tr>\n",
       "    <tr>\n",
       "      <th>2</th>\n",
       "      <td>NaN</td>\n",
       "      <td>3</td>\n",
       "      <td>Estados Unidos</td>\n",
       "      <td>346 353 341</td>\n",
       "      <td>+31.241.565</td>\n",
       "      <td>Censo oficial</td>\n",
       "    </tr>\n",
       "    <tr>\n",
       "      <th>3</th>\n",
       "      <td>NaN</td>\n",
       "      <td>4</td>\n",
       "      <td>Indonésia</td>\n",
       "      <td>277 184 719</td>\n",
       "      <td>+33.168.546</td>\n",
       "      <td>Estimativa oficial</td>\n",
       "    </tr>\n",
       "    <tr>\n",
       "      <th>4</th>\n",
       "      <td>NaN</td>\n",
       "      <td>5</td>\n",
       "      <td>Paquistão</td>\n",
       "      <td>240 215 932</td>\n",
       "      <td>+65.636.932</td>\n",
       "      <td>Estimativa oficial</td>\n",
       "    </tr>\n",
       "  </tbody>\n",
       "</table>\n",
       "</div>"
      ],
      "text/plain": [
       "   Unnamed: 0 Posição País (ou território dependente) Estimativa da ONU  \\\n",
       "0         NaN       1                           Índia     1 429 921 746   \n",
       "1         NaN       2                           China     1 426 391 281   \n",
       "2         NaN       3                  Estados Unidos       346 353 341   \n",
       "3         NaN       4                       Indonésia       277 184 719   \n",
       "4         NaN       5                       Paquistão       240 215 932   \n",
       "\n",
       "  Crescimento desde a última estimativa  Estimativa Oficial  \n",
       "0                          +269.108.746  Estimativa oficial  \n",
       "1                           +87.778.313       Censo oficial  \n",
       "2                           +31.241.565       Censo oficial  \n",
       "3                           +33.168.546  Estimativa oficial  \n",
       "4                           +65.636.932  Estimativa oficial  "
      ]
     },
     "execution_count": 14,
     "metadata": {},
     "output_type": "execute_result"
    }
   ],
   "source": [
    "dados_populacao.head()"
   ]
  }
 ],
 "metadata": {
  "kernelspec": {
   "display_name": "venv",
   "language": "python",
   "name": "python3"
  },
  "language_info": {
   "codemirror_mode": {
    "name": "ipython",
    "version": 3
   },
   "file_extension": ".py",
   "mimetype": "text/x-python",
   "name": "python",
   "nbconvert_exporter": "python",
   "pygments_lexer": "ipython3",
   "version": "3.12.4"
  }
 },
 "nbformat": 4,
 "nbformat_minor": 5
}
