{
 "cells": [
  {
   "cell_type": "markdown",
   "metadata": {
    "id": "_kwAaQ36gLQ1"
   },
   "source": [
    "# Sobre o notebook\n",
    "\n",
    "A \"hora da prática\" é uma atividade do curso de Python para Data Science da Alura que contém diversos desafios envolvendo os aprendizados de cada aula.\n",
    "\n",
    "O notebook \"hora da pratica\" é um notebook construído com espaço para as células dos desafios propostos no curso, com ele você tem espaço para construir e executar suas soluções"
   ]
  },
  {
   "cell_type": "markdown",
   "metadata": {
    "id": "Mc-KN0dA0Z83"
   },
   "source": [
    "## Aula 1 - Introdução ao Python"
   ]
  },
  {
   "cell_type": "markdown",
   "metadata": {
    "id": "l5eLWf0W0ikn"
   },
   "source": [
    "### Questão 1\n",
    "\n",
    "Imprima a frase `Escola de Dados da Alura!`"
   ]
  },
  {
   "cell_type": "code",
   "execution_count": 1,
   "metadata": {
    "id": "5pllxJ0h0-yA"
   },
   "outputs": [
    {
     "name": "stdout",
     "output_type": "stream",
     "text": [
      "Escola de Dados da Alura\n"
     ]
    }
   ],
   "source": [
    "print(\"Escola de Dados da Alura\")"
   ]
  },
  {
   "cell_type": "markdown",
   "metadata": {
    "id": "tQdX90Ue03c7"
   },
   "source": [
    "### Questão 2\n",
    "Imprima na tela seu nome e seu sobrenome seguindo a estrutura abaixo:\n",
    "```\n",
    "Nome: [seu nome]\n",
    "Sobrenome: [seu sobrenome]\n",
    "```\n"
   ]
  },
  {
   "cell_type": "code",
   "execution_count": null,
   "metadata": {
    "id": "RVw5iKn20_Ps"
   },
   "outputs": [
    {
     "name": "stdout",
     "output_type": "stream",
     "text": [
      "Nome: Francisco\n",
      "Sobrenome: Pomba\n"
     ]
    }
   ],
   "source": [
    "print(\"Nome: Francisco\")\n",
    "print(\"Sobrenome: Pomba\")"
   ]
  },
  {
   "cell_type": "markdown",
   "metadata": {
    "id": "gfg-aiip03vC"
   },
   "source": [
    "### Questão 3\n",
    "Imprima o seu primeiro nome letra a letra. Por exemplo, nome é Mirla, então eu obtenho a seguinte saída:\n",
    "```\n",
    "M\n",
    "I\n",
    "R\n",
    "L\n",
    "A\n",
    "```\n"
   ]
  },
  {
   "cell_type": "code",
   "execution_count": null,
   "metadata": {
    "id": "v5bkrgf60_qx"
   },
   "outputs": [
    {
     "name": "stdout",
     "output_type": "stream",
     "text": [
      "F\n",
      "R\n",
      "A\n",
      "N\n",
      "C\n",
      "I\n",
      "S\n",
      "C\n",
      "O\n"
     ]
    }
   ],
   "source": [
    "print(\"F\")\n",
    "print(\"R\")\n",
    "print(\"A\")\n",
    "print(\"N\")\n",
    "print(\"C\")\n",
    "print(\"I\")\n",
    "print(\"S\")\n",
    "print(\"C\")\n",
    "print(\"O\")"
   ]
  },
  {
   "cell_type": "markdown",
   "metadata": {
    "id": "oadrJbl704MM"
   },
   "source": [
    "### Questão 4\n",
    "Imprima o dia do seu nascimento em formato `dia mês ano`. Os valores de dia e ano não podem estar entre aspas. O formato deve estar como no exemplo, supondo uma data de aniversário dia 28 de fevereiro de 2003:\n",
    "```\n",
    "28 fevereiro 2003\n",
    "```"
   ]
  },
  {
   "cell_type": "code",
   "execution_count": null,
   "metadata": {
    "id": "cx0KSsrq1ALD"
   },
   "outputs": [
    {
     "name": "stdout",
     "output_type": "stream",
     "text": [
      "26 agosto 1999\n"
     ]
    }
   ],
   "source": [
    "print(26, \"agosto\", 1999)"
   ]
  },
  {
   "cell_type": "markdown",
   "metadata": {
    "id": "3RgyMaan04TD"
   },
   "source": [
    "### Questão 5\n",
    "Imprima em um único print o atual ano que você está fazendo esse curso, o valor do ano deve ser um dado numérico. A saída do print deve ser a seguinte:\n",
    "```\n",
    "Ano atual: [ano]\n",
    "```\n"
   ]
  },
  {
   "cell_type": "code",
   "execution_count": null,
   "metadata": {
    "id": "UN77EfQ2d36Y"
   },
   "outputs": [
    {
     "name": "stdout",
     "output_type": "stream",
     "text": [
      "Ano atual:  2025\n"
     ]
    }
   ],
   "source": [
    "print(\"Ano atual: \", 2025)"
   ]
  },
  {
   "cell_type": "markdown",
   "metadata": {
    "id": "D9e3FqhO1S3X"
   },
   "source": [
    "## Aula 2 - Manipulando dados no Python"
   ]
  },
  {
   "cell_type": "markdown",
   "metadata": {
    "id": "n6o7C1Ze2cRe"
   },
   "source": [
    "### Coleta e amostragem de dados"
   ]
  },
  {
   "cell_type": "markdown",
   "metadata": {
    "id": "sRneWag9PV5Q"
   },
   "source": [
    "#### Questão 1\n",
    "Crie um programa que solicite à pessoa usuária digitar seu nome, e imprima “Olá, [nome]!”."
   ]
  },
  {
   "cell_type": "code",
   "execution_count": null,
   "metadata": {
    "id": "dbX1fKqy2HnE"
   },
   "outputs": [
    {
     "name": "stdout",
     "output_type": "stream",
     "text": [
      "Olá, Francisco\n"
     ]
    }
   ],
   "source": [
    "nome = input(\"Digite o seu nome: \")\n",
    "print(\"Olá,\", nome)"
   ]
  },
  {
   "cell_type": "markdown",
   "metadata": {
    "id": "BJ1SznEp70d5"
   },
   "source": [
    "#### Questão 2\n",
    "Crie um programa que solicite à pessoa usuária digitar seu nome e idade, e imprima “Olá, [nome], você tem [idade] anos.”."
   ]
  },
  {
   "cell_type": "code",
   "execution_count": null,
   "metadata": {
    "id": "jKz-0Sq8PFkp"
   },
   "outputs": [
    {
     "name": "stdout",
     "output_type": "stream",
     "text": [
      "Ola,  Francisco você tem 26 anos.\n"
     ]
    }
   ],
   "source": [
    "nome = input(\"digite o seu nome: \")\n",
    "idade = input(\"digite a sua idade: \")\n",
    "print(\"Ola,\", nome, \"você tem\", idade, \"anos.\")"
   ]
  },
  {
   "cell_type": "markdown",
   "metadata": {
    "id": "2T0jNYZt70aa"
   },
   "source": [
    "#### Questão 3\n",
    "Crie um programa que solicite à pessoa usuária digitar seu nome, idade e altura em metros, e imprima “Olá, [nome], você tem [idade] anos e mede [altura] metros!”."
   ]
  },
  {
   "cell_type": "code",
   "execution_count": null,
   "metadata": {
    "id": "pI4kHNzTPIXh"
   },
   "outputs": [
    {
     "name": "stdout",
     "output_type": "stream",
     "text": [
      "Ola, Francisco você tem 26 anos e mede 1.92 metros\n"
     ]
    }
   ],
   "source": [
    "nome = input(\"digite o seu nome: \")\n",
    "idade = input(\"digite a sua idade: \")\n",
    "altura = input(\"digite a sua altura em metros: \")\n",
    "print(\"Ola,\", nome, \"você tem\", idade, \"anos e mede\", altura, \"metros\")\n"
   ]
  },
  {
   "cell_type": "markdown",
   "metadata": {
    "id": "mEBFwKkC70KP"
   },
   "source": [
    "### Calculadora com operadores"
   ]
  },
  {
   "cell_type": "markdown",
   "metadata": {
    "id": "H-IV1oAPPSqK"
   },
   "source": [
    "#### Questão 1\n",
    "\n",
    "Crie um programa que solicite dois valores numéricos à pessoa usuária e imprima a soma dos dois valores."
   ]
  },
  {
   "cell_type": "code",
   "execution_count": null,
   "metadata": {
    "id": "Zb0W84sy8rnp"
   },
   "outputs": [
    {
     "name": "stdout",
     "output_type": "stream",
     "text": [
      "A soma dos 2 numeros é: 10\n"
     ]
    }
   ],
   "source": [
    "valor1 = int(input(\"Digite o primeiro numero\"))\n",
    "valor2 = int(input(\"Digite o segundo numero\"))\n",
    "print(f\"A soma dos 2 numeros é: {valor1 + valor2}\")"
   ]
  },
  {
   "cell_type": "markdown",
   "metadata": {
    "id": "LUoi2MOu70Em"
   },
   "source": [
    "#### Questão 2\n",
    "Crie um programa que solicite três valores numéricos à pessoa usuária e imprima a soma dos três valores."
   ]
  },
  {
   "cell_type": "code",
   "execution_count": null,
   "metadata": {
    "id": "4FYjWyBS8rDm"
   },
   "outputs": [
    {
     "name": "stdout",
     "output_type": "stream",
     "text": [
      "A soma dos  numeros é: 21\n"
     ]
    }
   ],
   "source": [
    "valor1 = int(input(\"Digite o primeiro numero\"))\n",
    "valor2 = int(input(\"Digite o segundo numero\"))\n",
    "valor3 = int(input(\"digite o terceiro numero:\"))\n",
    "print(f\"A soma dos  numeros é: {valor1 + valor2 + valor3}\")\n"
   ]
  },
  {
   "cell_type": "markdown",
   "metadata": {
    "id": "lezGctF07z8i"
   },
   "source": [
    "#### Questão 3\n",
    "Crie um programa que solicite dois valores numéricos à pessoa usuária e imprima a subtração do primeiro pelo o segundo valor."
   ]
  },
  {
   "cell_type": "code",
   "execution_count": null,
   "metadata": {
    "id": "k0GE1z4w8p3J"
   },
   "outputs": [
    {
     "name": "stdout",
     "output_type": "stream",
     "text": [
      "o resultado da subtração dos numeros é 9\n"
     ]
    }
   ],
   "source": [
    "valor1 = int(input(\"Digite o primeiro numero\"))\n",
    "valor2 = int(input(\"Digite o segundo numero\"))\n",
    "print(f\"o resultado da subtração dos numeros é {valor1 - valor2}\")"
   ]
  },
  {
   "cell_type": "markdown",
   "metadata": {
    "id": "wwMP-dPU7zxW"
   },
   "source": [
    "#### Questão 4\n",
    "\n",
    "Crie um programa que solicite dois valores numéricos à pessoa usuária e imprima a multiplicação dos dois valores.\n"
   ]
  },
  {
   "cell_type": "code",
   "execution_count": null,
   "metadata": {
    "id": "GzFCVHfp8peZ"
   },
   "outputs": [
    {
     "name": "stdout",
     "output_type": "stream",
     "text": [
      "o resultado da multiplicação dos numeros é 28\n"
     ]
    }
   ],
   "source": [
    "valor1 = int(input(\"Digite o primeiro numero\"))\n",
    "valor2 = int(input(\"Digite o segundo numero\"))\n",
    "print(f\"o resultado da multiplicação dos numeros é {valor1 * valor2}\")\n"
   ]
  },
  {
   "cell_type": "markdown",
   "metadata": {
    "id": "9kxyHxUo7zRD"
   },
   "source": [
    "#### Questão 5\n",
    "\n",
    "Crie um programa que solicite dois valores numéricos, um numerador e um denominador, e realize a divisão entre os dois valores. Deixe claro que o valor do denominador não pode ser `0`.\n"
   ]
  },
  {
   "cell_type": "code",
   "execution_count": null,
   "metadata": {
    "id": "ytJ8l5KH8ozc"
   },
   "outputs": [
    {
     "name": "stdout",
     "output_type": "stream",
     "text": [
      "o resultado da subtração dos numeros é 1.5\n"
     ]
    }
   ],
   "source": [
    "valor1 = int(input(\"Digite o numerador\"))\n",
    "valor2 = int(input(\"Digite o denominador (o denominador não pode ser 0)\"))\n",
    "print(f\"o resultado da divisão dos numeros é {valor1 / valor2}\")\n"
   ]
  },
  {
   "cell_type": "markdown",
   "metadata": {
    "id": "zkUSBTQq8Hxt"
   },
   "source": [
    "#### Questão 6\n",
    "\n",
    "Crie um programa que solicite dois valores numéricos, um operador e uma potência, e realize a exponenciação entre esses dois valores.\n"
   ]
  },
  {
   "cell_type": "code",
   "execution_count": null,
   "metadata": {
    "id": "RPj36jq08oZp"
   },
   "outputs": [
    {
     "name": "stdout",
     "output_type": "stream",
     "text": [
      "o resultado da subtração dos numeros é 256\n"
     ]
    }
   ],
   "source": [
    "valor1 = int(input(\"Digite o opearador\"))\n",
    "valor2 = int(input(\"Digite a potencia\"))\n",
    "print(f\"o resultado da potencia dos numeros é {valor1 ** valor2}\")\n"
   ]
  },
  {
   "cell_type": "markdown",
   "metadata": {
    "id": "yiunIusZ8Huj"
   },
   "source": [
    "#### Questão 7\n",
    "Crie um programa que solicite dois valores numéricos, um numerador e um denominador e realize a divisão inteira entre os dois valores. Deixe claro que o valor do denominador não pode ser `0`."
   ]
  },
  {
   "cell_type": "code",
   "execution_count": null,
   "metadata": {
    "id": "UHK8xITf8oCg"
   },
   "outputs": [
    {
     "name": "stdout",
     "output_type": "stream",
     "text": [
      "o resultado da subtração dos numeros é 1\n"
     ]
    }
   ],
   "source": [
    "valor1 = int(input(\"Digite o numerador\"))\n",
    "valor2 = int(input(\"Digite o denominador (o denominador não pode ser 0)\"))\n",
    "print(f\"o resultado da divisao inteira dos numeros é {valor1 // valor2}\")\n"
   ]
  },
  {
   "cell_type": "markdown",
   "metadata": {
    "id": "z_D_JiLX8Hra"
   },
   "source": [
    "#### Questão 8\n",
    "\n",
    "Crie um programa que solicite dois valores numéricos, um numerador e um denominador, e retorne o resto da divisão entre os dois valores. Deixe claro que o valor do denominador não pode ser `0`."
   ]
  },
  {
   "cell_type": "code",
   "execution_count": null,
   "metadata": {
    "id": "EWGJeukO8nqx"
   },
   "outputs": [
    {
     "name": "stdout",
     "output_type": "stream",
     "text": [
      "o resultado do resto da divisão dos numeros é 4\n"
     ]
    }
   ],
   "source": [
    "valor1 = int(input(\"Digite o numerador\"))\n",
    "valor2 = int(input(\"Digite o denominador (o denominador não pode ser 0)\"))\n",
    "print(f\"o resultado do resto da divisão dos numeros é {valor1 % valor2}\")\n"
   ]
  },
  {
   "cell_type": "markdown",
   "metadata": {
    "id": "RDRajNkU8N8N"
   },
   "source": [
    "#### Questão 9\n",
    "\n",
    "Crie um código que solicita 3 notas de um estudante e imprima a média das notas."
   ]
  },
  {
   "cell_type": "code",
   "execution_count": null,
   "metadata": {
    "id": "H6F4Ojzt8nSR"
   },
   "outputs": [
    {
     "name": "stdout",
     "output_type": "stream",
     "text": [
      "a media das 3 notas é 7.333333333333333\n"
     ]
    }
   ],
   "source": [
    "nota1 = int(input(\"Digite o valor da primeira nota\"))\n",
    "nota2 = int(input(\"Digite o valor da segunda nota\"))\n",
    "nota3 = int(input(\"Digite o valor da terceira nota\"))\n",
    "\n",
    "print(f\"a media das 3 notas é {(nota1+nota2+nota3)/3}\")"
   ]
  },
  {
   "cell_type": "markdown",
   "metadata": {
    "id": "d7fjkne58N21"
   },
   "source": [
    "#### Questão 10\n",
    "\n",
    "Crie um código que calcule e imprima a média ponderada dos números 5, 12, 20 e 15 com pesos respectivamente iguais a 1, 2, 3 e 4."
   ]
  },
  {
   "cell_type": "code",
   "execution_count": null,
   "metadata": {
    "id": "fwjoHlV48mkv"
   },
   "outputs": [
    {
     "name": "stdout",
     "output_type": "stream",
     "text": [
      "A média ponderada dos numeros é 14.9\n"
     ]
    }
   ],
   "source": [
    "media_pond = (5*1 + 12*2 + 20*3 + 15*4 )/(1+2+3+4)\n",
    "print(f\"A média ponderada dos numeros é {media_pond}\")"
   ]
  },
  {
   "cell_type": "markdown",
   "metadata": {
    "id": "GNmbX1OU8N0V"
   },
   "source": [
    "### Editando textos"
   ]
  },
  {
   "cell_type": "markdown",
   "metadata": {
    "id": "6wZ85mCsRCV0"
   },
   "source": [
    "#### Questão 1\n",
    "\n",
    "Crie uma variável chamada “`frase`” e atribua a ela uma string de sua escolha. Em seguida, imprima a frase na tela."
   ]
  },
  {
   "cell_type": "code",
   "execution_count": null,
   "metadata": {
    "id": "eRqr_gh-8mFy"
   },
   "outputs": [
    {
     "name": "stdout",
     "output_type": "stream",
     "text": [
      "A lua é linda\n"
     ]
    }
   ],
   "source": [
    "frase = \"A lua é linda\"\n",
    "print(frase)"
   ]
  },
  {
   "cell_type": "markdown",
   "metadata": {
    "id": "Aac17z-18Nwv"
   },
   "source": [
    "#### Questão 2\n",
    "Crie um código que solicite uma frase e depois imprima a frase na tela."
   ]
  },
  {
   "cell_type": "code",
   "execution_count": null,
   "metadata": {
    "id": "8zfE2hh98lb0"
   },
   "outputs": [
    {
     "name": "stdout",
     "output_type": "stream",
     "text": [
      "Franc\n"
     ]
    }
   ],
   "source": [
    "frase = input(\"digite uma frase\")\n",
    "print(frase)"
   ]
  },
  {
   "cell_type": "markdown",
   "metadata": {
    "id": "DXVzqpN58Ntr"
   },
   "source": [
    "#### Questão 3\n",
    "\n",
    "Crie um código que solicite uma frase à pessoa usuária e imprima a mesma frase digitada mas com todas as letras maiúsculas."
   ]
  },
  {
   "cell_type": "code",
   "execution_count": null,
   "metadata": {
    "id": "d0VzoYP68k-I"
   },
   "outputs": [
    {
     "name": "stdout",
     "output_type": "stream",
     "text": [
      "LINDO LINDO\n"
     ]
    }
   ],
   "source": [
    "frase = input(\"digite uma frase\")\n",
    "print(frase.upper())"
   ]
  },
  {
   "cell_type": "markdown",
   "metadata": {
    "id": "I12VeNPK8Nqb"
   },
   "source": [
    "#### Questão 4\n",
    "\n",
    "Crie um código que solicite uma frase à pessoa usuária e imprima a mesma frase digitada mas com todas as letras minúsculas."
   ]
  },
  {
   "cell_type": "code",
   "execution_count": null,
   "metadata": {
    "id": "KD8rNy2K8kox"
   },
   "outputs": [
    {
     "name": "stdout",
     "output_type": "stream",
     "text": [
      "histora que fizeste\n"
     ]
    }
   ],
   "source": [
    "frase = input(\"digite uma frase\")\n",
    "print(frase.lower())"
   ]
  },
  {
   "cell_type": "markdown",
   "metadata": {
    "id": "cRqngSE48Nog"
   },
   "source": [
    "#### Questão 5\n",
    "\n",
    "Crie uma variável chamada “`frase`” e atribua a ela uma string de sua escolha. Em seguida, imprima a frase sem espaços em branco no início e no fim."
   ]
  },
  {
   "cell_type": "code",
   "execution_count": null,
   "metadata": {
    "id": "aSCpdF-o8kBs"
   },
   "outputs": [
    {
     "name": "stdout",
     "output_type": "stream",
     "text": [
      "Luanda cidade linda\n"
     ]
    }
   ],
   "source": [
    "frase = \" Luanda cidade linda  \"\n",
    "print(frase.strip())"
   ]
  },
  {
   "cell_type": "markdown",
   "metadata": {
    "id": "murIazpQ8Nkv"
   },
   "source": [
    "#### Questão 6\n",
    "\n",
    "Crie um código que solicite uma frase à pessoa usuária e imprima a mesma frase sem espaços em branco no início e no fim."
   ]
  },
  {
   "cell_type": "code",
   "execution_count": null,
   "metadata": {
    "id": "tHunjwuG8jNq"
   },
   "outputs": [
    {
     "name": "stdout",
     "output_type": "stream",
     "text": [
      "lalalalala\n"
     ]
    }
   ],
   "source": [
    "frase = input(\"digite uma frase\")\n",
    "print(frase.strip())\n"
   ]
  },
  {
   "cell_type": "markdown",
   "metadata": {
    "id": "eRxc2OeX8Nh2"
   },
   "source": [
    "#### Questão 7\n",
    "\n",
    "\n",
    "Crie um código que solicite uma frase à pessoa usuária e imprima a mesma frase sem espaços em branco no início e no fim e em letras minúsculas."
   ]
  },
  {
   "cell_type": "code",
   "execution_count": null,
   "metadata": {
    "id": "DYm0_UwS8ih6"
   },
   "outputs": [
    {
     "name": "stdout",
     "output_type": "stream",
     "text": [
      "LALALAA AALALA 2\n"
     ]
    }
   ],
   "source": [
    "frase = input(\"digite uma frase\")\n",
    "print(frase.strip().upper())\n"
   ]
  },
  {
   "cell_type": "markdown",
   "metadata": {
    "id": "UKATLavs8NfI"
   },
   "source": [
    "#### Questão 8\n",
    "\n",
    "Crie um código que solicite uma frase à pessoa usuária e imprima a mesma frase com todas as vogais “`e`” trocadas pela letra “`f`”."
   ]
  },
  {
   "cell_type": "code",
   "execution_count": null,
   "metadata": {
    "id": "k64C5G5S8iLO"
   },
   "outputs": [
    {
     "name": "stdout",
     "output_type": "stream",
     "text": [
      "fu sou muito fstftico\n"
     ]
    }
   ],
   "source": [
    "frase = input(\"digite uma frase\")\n",
    "print(frase.replace(\"e\", \"f\"))\n"
   ]
  },
  {
   "cell_type": "markdown",
   "metadata": {
    "id": "n_1SPchw8NdG"
   },
   "source": [
    "#### Questão 9\n",
    "\n",
    "\n",
    "Crie um código que solicite uma frase à pessoa usuária e imprima a mesma frase com todas as vogais “`a`” trocadas pela caractere  “`@`”."
   ]
  },
  {
   "cell_type": "code",
   "execution_count": null,
   "metadata": {
    "id": "msaDNm_p8h0D"
   },
   "outputs": [
    {
     "name": "stdout",
     "output_type": "stream",
     "text": [
      "@l@l@l@l@@l@\n"
     ]
    }
   ],
   "source": [
    "frase = input(\"digite uma frase\")\n",
    "print(frase.replace(\"a\", \"@\"))\n"
   ]
  },
  {
   "cell_type": "markdown",
   "metadata": {
    "id": "H3sTTjqI8Naa"
   },
   "source": [
    "#### Questão 10\n",
    "\n",
    "\n",
    "Crie um código que solicite uma frase à pessoa usuária e imprima a mesma frase com todas as consoantes “`s`” trocadas pelo caractere  “`$`”."
   ]
  },
  {
   "cell_type": "code",
   "execution_count": null,
   "metadata": {
    "id": "RPBIsWT68e-1"
   },
   "outputs": [
    {
     "name": "stdout",
     "output_type": "stream",
     "text": [
      "e$trudtuda \n"
     ]
    }
   ],
   "source": [
    "frase = input(\"digite uma frase\")\n",
    "print(frase.replace(\"s\", \"$\"))\n"
   ]
  },
  {
   "cell_type": "markdown",
   "metadata": {
    "id": "XGePe4GD2I59"
   },
   "source": [
    "## Aula 3 - Estruturas condicionais"
   ]
  },
  {
   "cell_type": "markdown",
   "metadata": {
    "id": "Pr9HTW0UHCdD"
   },
   "source": [
    "### Aquecendo na programação"
   ]
  },
  {
   "cell_type": "markdown",
   "metadata": {
    "id": "xBZHqhVg80Fy"
   },
   "source": [
    "#### Questão 1\n",
    "Escreva um programa que peça à pessoa usuária para fornecer dois números e exibir o número maior."
   ]
  },
  {
   "cell_type": "code",
   "execution_count": null,
   "metadata": {
    "id": "GJlGnzjc-xyF"
   },
   "outputs": [
    {
     "name": "stdout",
     "output_type": "stream",
     "text": [
      "O maior numero é o 15\n"
     ]
    }
   ],
   "source": [
    "numero1 = int(input(\"digite um numero\"))\n",
    "numero2 = int(input(\"digite outro numero\"))\n",
    "\n",
    "if numero1 > numero1:\n",
    "    print(f\"O maior numero é o {numero1}\")\n",
    "else:\n",
    "    print(f\"O maior numero é o {numero2}\")"
   ]
  },
  {
   "cell_type": "markdown",
   "metadata": {
    "id": "H4sgN7dyHNJF"
   },
   "source": [
    "#### Questão 2\n",
    "Escreva um programa que solicite o percentual de crescimento de produção de uma empresa e informe se houve um crescimento (porcentagem positiva) ou decrescimento (porcentagem negativa)."
   ]
  },
  {
   "cell_type": "code",
   "execution_count": null,
   "metadata": {
    "id": "-2_Ry5XJ-yZW"
   },
   "outputs": [
    {
     "name": "stdout",
     "output_type": "stream",
     "text": [
      "Houve um decrescimento\n"
     ]
    }
   ],
   "source": [
    "percentual = int(input(\"digite o percentual de crescimento\"))\n",
    "\n",
    "if percentual > 0:\n",
    "    print(\"Houve um crescimento\")\n",
    "else:\n",
    "    print(\"Houve um decrescimento\")"
   ]
  },
  {
   "cell_type": "markdown",
   "metadata": {
    "id": "a_mzNOBDHNny"
   },
   "source": [
    "#### Questão 3\n",
    "Escreva um programa que determine se uma letra fornecida pela pessoa usuária é uma vogal ou consoante."
   ]
  },
  {
   "cell_type": "code",
   "execution_count": null,
   "metadata": {
    "id": "NbgndVyg-zFJ"
   },
   "outputs": [
    {
     "name": "stdout",
     "output_type": "stream",
     "text": [
      "a letra digitada é uma vogal\n"
     ]
    }
   ],
   "source": [
    "letra =  input(\"Digite uma letra\")\n",
    "vogais = \"a, e, i, o, u\"\n",
    "\n",
    "if letra in vogais:\n",
    "    print(\"a letra digitada é uma vogal\")\n",
    "else:\n",
    "    print(\"a letra digitada é uma consoante\")"
   ]
  },
  {
   "cell_type": "markdown",
   "metadata": {
    "id": "mofMRjSZHP99"
   },
   "source": [
    "#### Questão 4\n",
    "Escreva um programa que leia valores médios de preços de um modelo de carro por 3 anos consecutivos e exiba o valor mais alto e mais baixo entre esses três anos."
   ]
  },
  {
   "cell_type": "code",
   "execution_count": 4,
   "metadata": {
    "id": "TX--d3k9-02c"
   },
   "outputs": [
    {
     "name": "stdout",
     "output_type": "stream",
     "text": [
      "O  preço medio mais alto foi 7000.00\n",
      "O preço medio mais baixo foi 4000.00\n"
     ]
    }
   ],
   "source": [
    "ano1 = float(input(\"Digite o preço médio do modelo no primeiro ano\"))\n",
    "ano2 = float(input(\"digite o preço médio do modelo no segundo ano\"))\n",
    "ano3 = float(input(\"digite o valor do preço médio do modelo no terceiro\"))\n",
    "\n",
    "maior = ano1\n",
    "\n",
    "if maior < ano2:\n",
    "    maior = ano2\n",
    "if maior < ano3:\n",
    "    maior = ano3\n",
    "    \n",
    "menor = ano1\n",
    "if menor > ano2:\n",
    "    menor = ano2\n",
    "if menor > ano3:\n",
    "    menor = ano3\n",
    "\n",
    "print(f\"O  preço medio mais alto foi {maior:.2f}\")\n",
    "print(f\"O preço medio mais baixo foi {menor:.2f}\")\n"
   ]
  },
  {
   "cell_type": "markdown",
   "metadata": {
    "id": "jY5tIwd-HQzc"
   },
   "source": [
    "#### Questão 5\n",
    "Escreva um programa que pergunte sobre o preço de três produtos e indique qual é o produto mais barato para comprar."
   ]
  },
  {
   "cell_type": "code",
   "execution_count": 5,
   "metadata": {
    "id": "sYqNh9df-0gk"
   },
   "outputs": [
    {
     "name": "stdout",
     "output_type": "stream",
     "text": [
      "O primeiro e o terceiro produtos são os mais barato\n"
     ]
    }
   ],
   "source": [
    "produto1 = float(input(\"Digite o preço do primeiro produto\"))\n",
    "produto2 = float(input(\"Digite o preço do segundo produto\"))\n",
    "produto3 = float(input(\"Digite o preço do terceiro produto\"))\n",
    "\n",
    "if produto1 < produto2 and produto2 < produto3:\n",
    "    print(\"O primeiro produto é o mais barato\")\n",
    "elif produto1 < produto2 and produto1 > produto3:\n",
    "    print(\"O terceiro produto é o mais barato\")\n",
    "elif produto1 > produto2 and produto1 < produto3:\n",
    "    print(\"O segundo produto é o mais barato\")\n",
    "elif produto3 == produto1 == produto2:\n",
    "    print(\"Todos os produtos têm o mesmo preço\")\n",
    "else:\n",
    "    if produto3 == produto2:\n",
    "        print(\"O segundo e o terceiro produtos são os mais barato\")\n",
    "    if produto1 == produto2:\n",
    "        print(\"O primeiro e segundo produtos são os mais barato\")\n",
    "    if produto3 == produto1:\n",
    "        print(\"O primeiro e o terceiro produtos são os mais barato\")\n"
   ]
  },
  {
   "cell_type": "markdown",
   "metadata": {
    "id": "1r6aVxtTHR4E"
   },
   "source": [
    "#### Questão 6\n",
    "Escreva um programa que leia três números e os exiba em ordem decrescente."
   ]
  },
  {
   "cell_type": "code",
   "execution_count": null,
   "metadata": {
    "id": "ydOCYUMO-0Hk"
   },
   "outputs": [
    {
     "name": "stdout",
     "output_type": "stream",
     "text": [
      "4, 4, 1\n"
     ]
    }
   ],
   "source": [
    "n1 = int(input(\"digite um numero\"))\n",
    "n2 = int(input(\"digite um numero\"))\n",
    "n3 = int(input(\"digite um numero\"))\n",
    "\n",
    "if (n1 >= n2) and (n2 >= n3):\n",
    "    print(f\"{n1}, {n2}, {n3}\")\n",
    "elif (n1 >= n2) and (n1 <= n3):\n",
    "    print(f\"{n3}, {n1}, {n2}\")\n",
    "elif (n1 >= n3) and (n2 <= n3):\n",
    "    print(f\"{n1}, {n3}, {n2}\")\n",
    "elif (n1 <= n2) and (n1 >= n3):\n",
    "    print(f\"{n2}, {n1}, {n3}\")\n",
    "elif (n1 <= n2) and (n1 <= n3):\n",
    "    print(f\"{n2}, {n3}, {n1}\")\n",
    "else:\n",
    "    print(f\"{n3}, {n2}, {n1}\")\n"
   ]
  },
  {
   "cell_type": "markdown",
   "metadata": {
    "id": "inW3F-hAHS_X"
   },
   "source": [
    "#### Questão 7\n",
    "Escreva um programa que pergunte em qual turno a pessoa usuária estuda (\"manhã\", \"tarde\" ou \"noite\") e exiba a mensagem \"Bom Dia!\", \"Boa Tarde!\", \"Boa Noite!\", ou \"Valor Inválido!\", conforme o caso."
   ]
  },
  {
   "cell_type": "code",
   "execution_count": null,
   "metadata": {
    "id": "-_q-Pcr_-zth"
   },
   "outputs": [
    {
     "name": "stdout",
     "output_type": "stream",
     "text": [
      "Boa Tarde!\n"
     ]
    }
   ],
   "source": [
    "turno = input(\"em qual turno estudas? (manhã, tarde ou noite)\")\n",
    "\n",
    "if turno.lower() == \"manhã\" or turno.lower() == \"manha\":\n",
    "    print(\"Bom Dia!\")\n",
    "elif turno.lower() == \"tarde\":\n",
    "    print(\"Boa Tarde!\")\n",
    "elif turno.lower() == \"noite\":\n",
    "    print(\"Boa Noite!\")\n",
    "else:\n",
    "    print(\"Valor Inválido!\")"
   ]
  },
  {
   "cell_type": "markdown",
   "metadata": {
    "id": "NCCPF3QqHTw-"
   },
   "source": [
    "#### Questão 8\n",
    "Escreva um programa que peça um número inteiro à pessoa usuária e determine se ele é par ou ímpar. Dica: Você pode utilizar o operador módulo `%`."
   ]
  },
  {
   "cell_type": "code",
   "execution_count": 15,
   "metadata": {
    "id": "OmZJt1nQ-3e6"
   },
   "outputs": [
    {
     "name": "stdout",
     "output_type": "stream",
     "text": [
      "o número digitado é par\n"
     ]
    }
   ],
   "source": [
    "num = int(input(\"Digite um número\"))\n",
    "if num % 2 == 0:\n",
    "    print(\"o número digitado é par\")\n",
    "else:\n",
    "    print(\"o número digitado é impar\")"
   ]
  },
  {
   "cell_type": "markdown",
   "metadata": {
    "id": "h93Ck1tQHUwE"
   },
   "source": [
    "#### Questão 9\n",
    "Escreva um programa que peça um número à pessoa usuária e informe se ele é inteiro ou decimal."
   ]
  },
  {
   "cell_type": "code",
   "execution_count": 2,
   "metadata": {
    "id": "sLMlZcx8-20N"
   },
   "outputs": [
    {
     "name": "stdout",
     "output_type": "stream",
     "text": [
      "o número digitado é inteiro\n"
     ]
    }
   ],
   "source": [
    "num = float(input(\"Digite um número\"))\n",
    "if num % 1 == 0:\n",
    "    print(\"o número digitado é inteiro\")\n",
    "else:\n",
    "    print(\"o número digitado é decimal\")\n"
   ]
  },
  {
   "cell_type": "markdown",
   "metadata": {
    "id": "bKdXSK1SH_pF"
   },
   "source": [
    "### Momento dos projetos"
   ]
  },
  {
   "cell_type": "markdown",
   "metadata": {
    "id": "WBlEyyzsHV86"
   },
   "source": [
    "#### Questão 10\n",
    "Um programa deve ser escrito para ler dois números e, em seguida, perguntar à pessoa usuária qual operação ele deseja realizar. O resultado da operação deve incluir informações sobre o número - se é par ou ímpar, positivo ou negativo e inteiro ou decimal."
   ]
  },
  {
   "cell_type": "code",
   "execution_count": 3,
   "metadata": {
    "id": "3jmahZ0f-2gq"
   },
   "outputs": [
    {
     "name": "stdout",
     "output_type": "stream",
     "text": [
      "O resultado da operacao dos 2 numeros é 2.5\n",
      "o resultado é um número impar\n",
      "o resultado é um número positivo\n",
      "o resultado é um número decimal\n"
     ]
    }
   ],
   "source": [
    "n1 = int(input(\"digite o primeiro numero\"))\n",
    "n2 = int(input(\"digite o segundo numero\"))\n",
    "operacao = input(\"qual operação deseja realizar? (+, -, /, *)\")\n",
    "resultado = 0\n",
    "\n",
    "if operacao == \"+\":\n",
    "    resultado = n1 + n2\n",
    "elif operacao == \"-\":\n",
    "    resultado = n1 - n2\n",
    "elif operacao == \"/\":\n",
    "    resultado = n1 / n2\n",
    "elif operacao == \"*\":\n",
    "    resultado = n1 * n2\n",
    "else:\n",
    "    print(\"operacao invalida!\")\n",
    "    \n",
    "print(f\"O resultado da operacao dos 2 numeros é {resultado}\")\n",
    "\n",
    "if resultado % 2 == 0:\n",
    "    print(f\"o resultado é um número par\")\n",
    "else:\n",
    "    print(f\"o resultado é um número impar\")\n",
    "    \n",
    "if resultado > 0:\n",
    "    print(f\"o resultado é um número positivo\")\n",
    "else:\n",
    "    print(f\"o resultado é um número negativo\")\n",
    "\n",
    "if resultado % 1 == 0:\n",
    "    print(f\"o resultado é um número inteiro\")\n",
    "else:\n",
    "    print(f\"o resultado é um número decimal\")"
   ]
  },
  {
   "cell_type": "markdown",
   "metadata": {
    "id": "VdnlULxHHW19"
   },
   "source": [
    "#### Questão 11\n",
    "Escreva um programa que peça à pessoa usuária três números que representam os lados de um triângulo. O programa deve informar se os valores podem ser utilizados para formar um triângulo e, caso afirmativo, se ele é equilátero, isósceles ou escaleno. Tenha em mente algumas dicas:\n",
    "- Três lados formam um triângulo quando a soma de quaisquer dois lados for maior que o terceiro;\n",
    "- Triângulo Equilátero: três lados iguais;\n",
    "- Triângulo Isósceles: quaisquer dois lados iguais;\n",
    "- Triângulo Escaleno: três lados diferentes;\n"
   ]
  },
  {
   "cell_type": "code",
   "execution_count": 7,
   "metadata": {
    "id": "0z73sqUO-2Pw"
   },
   "outputs": [
    {
     "name": "stdout",
     "output_type": "stream",
     "text": [
      "Os valores podem ser utilizado para formar um triângulo\n",
      "O tipo de triângulo é triângulo isósceles\n"
     ]
    }
   ],
   "source": [
    "l1 = float(input(\"digite o valor do lado 1\"))\n",
    "l2 = float(input(\"digite o valor do lado 2\"))\n",
    "l3 = float(input(\"digite o valor do lado 3\"))\n",
    "\n",
    "if (l1 + l2 > l3) and (l1 + l3 > l2) and (l2 + l3 > l1):\n",
    "    print(\"Os valores podem ser utilizado para formar um triângulo\")\n",
    "    if l1 == l2 == l3:\n",
    "        print(\"O tipo de triângulo é triângulo equilátero\")\n",
    "    elif l1 == l2 or l1 == l3 or l2 == l3:\n",
    "        print(\"O tipo de triângulo é triângulo isósceles\")\n",
    "    else:\n",
    "        print(\"O tipo de triângulo é triângulo escaleno\")\n",
    "else:\n",
    "    print(\"Os valores não podem ser utilizado para formar um triângulo\")"
   ]
  },
  {
   "cell_type": "markdown",
   "metadata": {
    "id": "_PpEpOugHXwZ"
   },
   "source": [
    "#### Questão 12\n",
    "Um estabelecimento está vendendo combustíveis com descontos variados. Para o etanol, se a quantidade comprada for até 15 litros, o desconto será de 2% por litro. Caso contrário, será de 4% por litro. Para o diesel, se a quantidade comprada for até 15 litros, o desconto será de 3% por litro. Caso contrário, será de 5% por litro. O preço do litro de diesel é R\\$ 2,00 e o preço do litro de etanol é R\\$ 1,70. Escreva um programa que leia a quantidade de litros vendidos e o tipo de combustível (E para etanol e D para diesel) e calcule o valor a ser pago pelo cliente. Tenha em mente algumas dicas:\n",
    "\n",
    "- O do valor do desconto será a multiplicação entre preço do litro, quantidade de litros e o valor do desconto.\n",
    "- O valor a ser pago por um cliente será o resultado da multiplicação do preço do litro pela quantidade de litros menos o valor de desconto resultante do cálculo.\n"
   ]
  },
  {
   "cell_type": "code",
   "execution_count": 11,
   "metadata": {
    "id": "9izoF-0O-1yD"
   },
   "outputs": [
    {
     "name": "stdout",
     "output_type": "stream",
     "text": [
      " O valor total a ser pago pelo diesel é R$ 38.00\n"
     ]
    }
   ],
   "source": [
    "qt_litros = float(input(\"Digite a quantidade de litros vendidos?\"))\n",
    "tipo = input(\"digite o tipo de combustivel (E para etanol e D para diesel)\")\n",
    "preco_etanol = 1.70\n",
    "preco_diesel = 2\n",
    "if tipo == \"E\":\n",
    "    if qt_litros <= 15:\n",
    "        preco = preco_etanol - (preco_etanol * 0.02)\n",
    "    else:\n",
    "        preco = preco_etanol - (preco_etanol * 0.04)\n",
    "    print(f\" O valor total a ser pago pelo etanol é R$ {qt_litros * preco:.2f}\")\n",
    "elif tipo == \"D\":\n",
    "    if qt_litros <= 15:\n",
    "        preco = preco_diesel - (preco_diesel * 0.03)\n",
    "    else:\n",
    "        preco = preco_diesel - (preco_diesel * 0.05)\n",
    "    print(f\" O valor total a ser pago pelo diesel é R$ {qt_litros * preco:.2f}\")\n",
    "else:\n",
    "    print(\"Entrada Invalida!\")"
   ]
  },
  {
   "cell_type": "markdown",
   "metadata": {
    "id": "s_XS_D1WHY2R"
   },
   "source": [
    "#### Questão 13\n",
    "Em uma empresa de venda de imóveis você precisa criar um código que analise os dados de vendas anuais para ajudar a diretoria na tomada de decisão. O código precisa coletar os dados de quantidade de venda durante os anos de 2022 e 2023 e fazer um cálculo de variação percentual. A partir do valor da variação, deve ser enviada às seguintes sugestões:\n",
    "- Para variação acima de 20%: bonificação para o time de vendas.\n",
    "- Para variação entre 2% e 20%: pequena bonificação para time de vendas.\n",
    "- Para variação entre 2% e -10%: planejamento de políticas de incentivo às vendas.\n",
    "- Para bonificações abaixo de -10%: corte de gastos.\n"
   ]
  },
  {
   "cell_type": "code",
   "execution_count": 23,
   "metadata": {
    "id": "avQrYlUg-w8f"
   },
   "outputs": [
    {
     "name": "stdout",
     "output_type": "stream",
     "text": [
      "variacao de 25.0%\n",
      "Bonificação para o time de vendas\n"
     ]
    }
   ],
   "source": [
    "qt_vendas_2022 = int(input(\"Digite a quantidade de vendas realizadas em 2022\"))\n",
    "qt_vendas_2023 = int(input(\"Digite a quantidade de vendas realizadas em 2023\"))\n",
    "\n",
    "variacao = (qt_vendas_2023 - qt_vendas_2022)/qt_vendas_2022 * 100\n",
    "print(f\"variacao de {variacao}%\")\n",
    "if variacao > 20:\n",
    "    print(\"Bonificação para o time de vendas\")\n",
    "elif variacao >= 2:\n",
    "    print(\"Pequena bonificação para o time de vendas\")\n",
    "elif variacao >= -10:\n",
    "    print(\"Planejamento de politicas de incentivo ás vendas\")\n",
    "else:\n",
    "    print(\"Corte de gastos\")"
   ]
  },
  {
   "cell_type": "markdown",
   "metadata": {
    "id": "AuaWh4-d2Itt"
   },
   "source": [
    "## Aula 4 - Estruturas de repetição"
   ]
  },
  {
   "cell_type": "markdown",
   "metadata": {
    "id": "6MSqU0sIJRdD"
   },
   "source": [
    "### Aquecendo na programação"
   ]
  },
  {
   "cell_type": "markdown",
   "metadata": {
    "id": "9eGGyCnAJRdQ"
   },
   "source": [
    "#### Questão 1\n",
    "Escreva um programa que peça dois números inteiros e imprima todos os números inteiros entre eles."
   ]
  },
  {
   "cell_type": "code",
   "execution_count": 33,
   "metadata": {
    "id": "ID1oc1hxJRdQ"
   },
   "outputs": [
    {
     "name": "stdout",
     "output_type": "stream",
     "text": [
      "Os valores são iguais\n"
     ]
    }
   ],
   "source": [
    "n1 = int(input(\"Digite um número\"))\n",
    "n2 = int(input(\"Digite um número\"))\n",
    "if n1 < n2:\n",
    "    while True:\n",
    "        n1 += 1\n",
    "        if n1 >= n2:\n",
    "            break\n",
    "        print(n1)\n",
    "elif n1 > n2:\n",
    "    while True:\n",
    "        n2 += 1\n",
    "        if n2 >= n1:\n",
    "            break\n",
    "        print(n2)\n",
    "else:\n",
    "    print(\"Os valores são iguais\")\n",
    "   \n",
    "    "
   ]
  },
  {
   "cell_type": "markdown",
   "metadata": {
    "id": "mGonEHYCJRdR"
   },
   "source": [
    "#### Questão 2\n",
    "Escreva um programa para calcular quantos dias levará para a colônia de uma bactéria A ultrapassar ou igualar a colônia de uma bactéria B, com base nas taxas de crescimento de 3% e 1,5% respectivamente. Considere que a colônia A inicia com 4 elementos e a colônia B com 10 elementos."
   ]
  },
  {
   "cell_type": "code",
   "execution_count": 29,
   "metadata": {
    "id": "wM6FJuoqJRdR"
   },
   "outputs": [
    {
     "name": "stdout",
     "output_type": "stream",
     "text": [
      "25.75165514029833 25.54822084811115\n",
      "levará 63 dias para a colonia a ultrapassar ou igualar a colonia b\n"
     ]
    }
   ],
   "source": [
    "colonia_a = 4\n",
    "colonia_b = 10\n",
    "dias = 0\n",
    "while colonia_a < colonia_b:\n",
    "    colonia_a += colonia_a * 0.03\n",
    "    colonia_b += colonia_b * 0.015\n",
    "    dias += 1\n",
    "print(colonia_a, colonia_b)\n",
    "print(f\"levará {dias} dias para a colonia a ultrapassar ou igualar a colonia b\")"
   ]
  },
  {
   "cell_type": "markdown",
   "metadata": {
    "id": "UiOZRlqoJRdR"
   },
   "source": [
    "#### Questão 3\n",
    "Para tratar uma quantidade de 15 dados de avaliações de pessoas usuárias de um serviço da empresa, precisamos verificar se as notas são válidas. Então, escreva um programa que vai receber a nota de 0 a 5 de todos os dados e verificar se é um valor válido. Caso seja inserido uma nota acima de 5 ou abaixo de 0, repita até que a pessoa usuária insira um valor válido."
   ]
  },
  {
   "cell_type": "code",
   "execution_count": 31,
   "metadata": {
    "id": "3TUAhCxcJRdR"
   },
   "outputs": [],
   "source": [
    "dados = 1\n",
    "while dados < 15:\n",
    "    nota = float(input(f\"insira os dados de avalição numero {dados}\"))\n",
    "    if 0 <= nota <= 5:\n",
    "        dados += 1"
   ]
  },
  {
   "cell_type": "markdown",
   "metadata": {
    "id": "ABv3KObGJRdR"
   },
   "source": [
    "#### Questão 4\n",
    "Desenvolva um programa que leia um conjunto indeterminado de temperaturas em Celsius e faça uma análise. Portanto, escreva um programa que leia temperaturas e informe a média delas. A leitura deve ser encerrada ao ser enviado o valor -273°C."
   ]
  },
  {
   "cell_type": "code",
   "execution_count": 34,
   "metadata": {
    "id": "85tBBj5KJRdS"
   },
   "outputs": [
    {
     "name": "stdout",
     "output_type": "stream",
     "text": [
      "A média das temperaturas é de 30.0\n"
     ]
    }
   ],
   "source": [
    "temperatura = 0\n",
    "i = 0\n",
    "valor = 0\n",
    "\n",
    "while True:\n",
    "    valor = int(input(\"digite a temperatura\"))\n",
    "    if valor == -273:\n",
    "        break\n",
    "    temperatura += valor\n",
    "    i += 1\n",
    "\n",
    "print(f\"A média das temperaturas é de {temperatura/i}\")"
   ]
  },
  {
   "cell_type": "markdown",
   "metadata": {
    "id": "IjkbAfGcJRdS"
   },
   "source": [
    "#### Questão 5\n",
    "Escreva um programa que calcule o fatorial de um número inteiro fornecido pela pessoa usuária. O fatorial de um número inteiro é a multiplicação desse número por todos os seus antecessores até o número 1. Por exemplo, o fatorial de 5 é 5 x 4 x 3 x 2 x 1 = 120."
   ]
  },
  {
   "cell_type": "code",
   "execution_count": 42,
   "metadata": {
    "id": "7RTH8o0HJRdS"
   },
   "outputs": [
    {
     "name": "stdout",
     "output_type": "stream",
     "text": [
      "O fatorial de 5 é 120\n"
     ]
    }
   ],
   "source": [
    "num = int(input(\"digite o número\"))\n",
    "fatorial = 1\n",
    "for i in range(num, 0, -1):\n",
    "    fatorial *= i\n",
    "print(f\"O fatorial de {num} é {fatorial}\")"
   ]
  },
  {
   "cell_type": "markdown",
   "metadata": {
    "id": "oGNKuQjsJRdT"
   },
   "source": [
    "### Momento dos projetos"
   ]
  },
  {
   "cell_type": "markdown",
   "metadata": {
    "id": "ODxaTUYmJRdS"
   },
   "source": [
    "#### Questão 6\n",
    "Escreva um programa que gere a tabuada de um número inteiro de 1 a 10, de acordo com a escolha da pessoa usuária. Como exemplo, para o número 2, a tabuada deve ser mostrada no seguinte formato:\n",
    "```\n",
    "Tabuada do 2:\n",
    "2 x 1 = 2\n",
    "2 x 2 = 4\n",
    "[...]\n",
    "2 x 10 = 20\n",
    "```"
   ]
  },
  {
   "cell_type": "code",
   "execution_count": 45,
   "metadata": {
    "id": "lkTlbxPIJRdS"
   },
   "outputs": [
    {
     "name": "stdout",
     "output_type": "stream",
     "text": [
      "Tabuada do 8\n",
      "8 x 1 = 8\n",
      "8 x 2 = 16\n",
      "8 x 3 = 24\n",
      "8 x 4 = 32\n",
      "8 x 5 = 40\n",
      "8 x 6 = 48\n",
      "8 x 7 = 56\n",
      "8 x 8 = 64\n",
      "8 x 9 = 72\n",
      "8 x 10 = 80\n"
     ]
    }
   ],
   "source": [
    "num = int(input(\"Digite o numero\"))\n",
    "\n",
    "print(f\"Tabuada do {num}\")\n",
    "for i in range(1, 11):\n",
    "    print(f\"{num} x {i} = {num * i}\")"
   ]
  },
  {
   "cell_type": "markdown",
   "metadata": {
    "id": "LeIbnt8VJRdS"
   },
   "source": [
    "#### Questão 7\n",
    "Os números primos possuem várias aplicações dentro da Ciência de Dados, por exemplo, na criptografia e segurança. Um número primo é aquele que é divisível apenas por um e por ele mesmo. Faça um programa que peça um número inteiro e determine se ele é ou não um número primo."
   ]
  },
  {
   "cell_type": "code",
   "execution_count": 54,
   "metadata": {
    "id": "2rcNU7twJRdS"
   },
   "outputs": [
    {
     "name": "stdout",
     "output_type": "stream",
     "text": [
      "O número 17 é primo\n"
     ]
    }
   ],
   "source": [
    "num = int(input(\"Digite o numero\"))\n",
    "e_primo = True\n",
    "if num <= 1:\n",
    "    e_primo = False\n",
    "else:\n",
    "    for i in range(num - 1, 1, -1): \n",
    "        if num % i == 0:\n",
    "            e_primo = False\n",
    "            break\n",
    "\n",
    "if e_primo:\n",
    "    print(f\"O número {num} é primo\")\n",
    "else:\n",
    "    print(f\"O número {num} não é primo\")\n"
   ]
  },
  {
   "cell_type": "markdown",
   "metadata": {
    "id": "QTwb6QaCJRdT"
   },
   "source": [
    "#### Questão 8\n",
    "Vamos entender a distribuição de idades de pensionistas de uma empresa de previdência. Escreva um programa que leia as idades de uma quantidade não informada de clientes e mostre a distribuição em intervalos de [0-25], [26-50], [51-75] e [76-100]. Encerre a entrada de dados com um número negativo."
   ]
  },
  {
   "cell_type": "code",
   "execution_count": 55,
   "metadata": {
    "id": "4IAhaDmYJRdT"
   },
   "outputs": [
    {
     "name": "stdout",
     "output_type": "stream",
     "text": [
      "Distribuição de 0 a 25 2\n",
      "Distribuição de 26 a 50 1\n",
      "Distribuição de 51 a 75 1\n",
      "Distribuição de 76 a 100 2\n"
     ]
    }
   ],
   "source": [
    "idade = int(input(\"informe a idade\"))\n",
    "intervalo_0_25 = 0\n",
    "intervalo_26_50 = 0\n",
    "intervalo_51_75 = 0\n",
    "intervalo_76_100 = 0\n",
    "\n",
    "while idade > 0:\n",
    "    if idade >= 0 and idade <= 25:\n",
    "        intervalo_0_25 += 1\n",
    "    elif idade >= 26 and idade <= 50:\n",
    "        intervalo_26_50 += 1\n",
    "    elif idade >= 51 and idade <= 75:\n",
    "        intervalo_51_75 += 1\n",
    "    elif idade >= 76 and idade <= 100:\n",
    "        intervalo_76_100 += 1\n",
    "    idade = int(input(\"informe a idade\"))\n",
    "    \n",
    "print(f\"Distribuição de 0 a 25 {intervalo_0_25}\")\n",
    "print(f\"Distribuição de 26 a 50 {intervalo_26_50}\")\n",
    "print(f\"Distribuição de 51 a 75 {intervalo_51_75}\")\n",
    "print(f\"Distribuição de 76 a 100 {intervalo_76_100}\")\n"
   ]
  },
  {
   "cell_type": "markdown",
   "metadata": {
    "id": "soJCQVwRJRdT"
   },
   "source": [
    "#### Questão 9\n",
    "Em uma eleição para gerência em uma empresa com 20 funcionários, existem quatro candidatos. Escreva um programa que calcule o vencedor da eleição. A votação ocorreu da seguinte maneira:\n",
    "- Cada funcionário votou em um dos quatro candidatos (representados pelos números 1, 2, 3 e 4).\n",
    "- Também foram contabilizados os votos nulos (representado pelo número 5) e os votos em branco (representado pelo número 6).\n",
    "\n",
    "Ao final da votação, o programa deve exibir o total de votos para cada candidato, o número de votos nulos e o número de votos em branco. Além disso, deve calcular e exibir a porcentagem de votos nulos em relação ao total de votos e a porcentagem de votos em branco em relação ao total de votos."
   ]
  },
  {
   "cell_type": "code",
   "execution_count": null,
   "metadata": {
    "id": "041EFrgG-4gR"
   },
   "outputs": [
    {
     "name": "stdout",
     "output_type": "stream",
     "text": [
      "Resultado da votação\n",
      "Total de votos no candidato 1: 4 votos\n",
      "Total de votos no candidato 2: 4 votos\n",
      "Total de votos no candidato 3: 4 votos\n",
      "Total de votos no candidato 4: 4 votos\n",
      "Total de votos nulos: 2 votos\n",
      "Total de votos em branco: 2 votos\n",
      "Porcentagem de votos nulos em relação ao total de votos 10.0%\n",
      "Porcentagem de votos em branco em relação ao total de votos 10.0%\n"
     ]
    }
   ],
   "source": [
    "cand_1 = 0\n",
    "cand_2 = 0\n",
    "cand_3 = 0\n",
    "cand_4 = 0\n",
    "v_nulo = 0\n",
    "v_branco = 0\n",
    "total_votos = 20\n",
    "for i in range(0, total_votos):\n",
    "    voto = input(\"Digite o número do candidato (1, 2, 3, 4), 5 para voto nulo ou 6 para voto em branco\")\n",
    "    if voto == \"1\":\n",
    "        cand_1 += 1\n",
    "    elif voto == \"2\":\n",
    "        cand_2 += 1\n",
    "    elif voto == \"3\":\n",
    "        cand_3 += 1\n",
    "    elif voto == \"4\":\n",
    "        cand_4 += 1\n",
    "    elif voto == \"5\":\n",
    "        v_nulo += 1\n",
    "    elif voto == \"6\":\n",
    "        v_branco += 1\n",
    "\n",
    "per_votos_branco = (v_branco / total_votos) * 100\n",
    "per_votos_nulos =  (v_nulo / total_votos) * 100\n",
    "\n",
    "print(\"Resultado da votação\")\n",
    "print(f\"Total de votos {total_votos}\")\n",
    "print(f\"Total de votos no candidato 1: {cand_1} votos\")\n",
    "print(f\"Total de votos no candidato 2: {cand_2} votos\")\n",
    "print(f\"Total de votos no candidato 3: {cand_3} votos\")\n",
    "print(f\"Total de votos no candidato 4: {cand_4} votos\")\n",
    "print(f\"Total de votos nulos: {v_nulo} votos\")\n",
    "print(f\"Total de votos em branco: {v_branco} votos\")\n",
    "\n",
    "print(f\"Porcentagem de votos nulos em relação ao total de votos {per_votos_nulos}%\")\n",
    "print(f\"Porcentagem de votos em branco em relação ao total de votos {per_votos_branco}%\")\n"
   ]
  },
  {
   "cell_type": "markdown",
   "metadata": {
    "id": "eijHQiNU2IZ7"
   },
   "source": [
    "## Aula 5 - Estruturas de dados"
   ]
  },
  {
   "cell_type": "markdown",
   "metadata": {
    "id": "92F0bKtBMgd7"
   },
   "source": [
    "### Aquecendo na programação"
   ]
  },
  {
   "cell_type": "markdown",
   "metadata": {
    "id": "IypX2ANuMgeC"
   },
   "source": [
    "#### Questão 1\n",
    "Faça um programa que tenha a seguinte lista contendo os valores de gastos de uma empresa de papel `[2172.54, 3701.35, 3518.09, 3456.61, 3249.38, 2840.82, 3891.45, 3075.26, 2317.64, 3219.08]`. Com esses valores, faça um programa que calcule a média de gastos. Dica, use as funções built-in [`sum()`](https://docs.python.org/3/library/functions.html#sum) e [`len()`](https://docs.python.org/3/library/functions.html#len)."
   ]
  },
  {
   "cell_type": "code",
   "execution_count": 58,
   "metadata": {
    "id": "ge3LuFhLMgeD"
   },
   "outputs": [
    {
     "name": "stdout",
     "output_type": "stream",
     "text": [
      "A média de gastos é 3144.222\n"
     ]
    }
   ],
   "source": [
    "gastos = [\n",
    "    2172.54,\n",
    "    3701.35,\n",
    "    3518.09,\n",
    "    3456.61,\n",
    "    3249.38,\n",
    "    2840.82,\n",
    "    3891.45,\n",
    "    3075.26,\n",
    "    2317.64,\n",
    "    3219.08,\n",
    "]\n",
    "media_gastos = sum(gastos)/len(gastos)\n",
    "print(f\"A média de gastos é {media_gastos}\")"
   ]
  },
  {
   "cell_type": "markdown",
   "metadata": {
    "id": "xrOeLhQkMgeD"
   },
   "source": [
    "#### Questão 2\n",
    " Com os mesmos dados da questão anterior, defina quantas compras foram acima de 3000 reais e calcule a porcentagem quanto ao total de compras."
   ]
  },
  {
   "cell_type": "code",
   "execution_count": 60,
   "metadata": {
    "id": "Ygu5TMZyMgeD"
   },
   "outputs": [
    {
     "name": "stdout",
     "output_type": "stream",
     "text": [
      "O total de compras acima de R$ 3000 é 7\n",
      "A porcentagem de compras acima de 3000 quanto ao total de compras é de 70.0%\n"
     ]
    }
   ],
   "source": [
    "compras_acima_3000 = 0\n",
    "for compra in gastos:\n",
    "    if compra > 3000:\n",
    "        compras_acima_3000 += 1\n",
    "per_compras_acima_3000 = (compras_acima_3000 / len(gastos)) * 100\n",
    "\n",
    "print(f\"O total de compras acima de R$ 3000 é {compras_acima_3000}\")\n",
    "print(f\"A porcentagem de compras acima de 3000 quanto ao total de compras é de {per_compras_acima_3000}%\")"
   ]
  },
  {
   "cell_type": "markdown",
   "metadata": {
    "id": "JgCOrE_BMgeD"
   },
   "source": [
    "#### Questão 3\n",
    "Faça um código que colete em uma lista 5 números inteiros quaisquer e imprima a lista. Exemplo: `[1,4,7,2,4]`."
   ]
  },
  {
   "cell_type": "code",
   "execution_count": 61,
   "metadata": {
    "id": "vtM9O1hLMgeD"
   },
   "outputs": [
    {
     "name": "stdout",
     "output_type": "stream",
     "text": [
      "[4, 3, 4, 1, 2]\n"
     ]
    }
   ],
   "source": [
    "lista = []\n",
    "for i in range(0, 5):\n",
    "    num = int(input(\"Digite um número\"))\n",
    "    lista.append(num)\n",
    "print(lista)"
   ]
  },
  {
   "cell_type": "markdown",
   "metadata": {
    "id": "p3bTp88HMgeD"
   },
   "source": [
    "#### Questão 4\n",
    "Colete novamente 5 inteiros e imprima a lista em ordem inversa à enviada."
   ]
  },
  {
   "cell_type": "code",
   "execution_count": 63,
   "metadata": {
    "id": "-CGwMIyHMgeD"
   },
   "outputs": [
    {
     "name": "stdout",
     "output_type": "stream",
     "text": [
      "[8, 6, 3, 2, 4]\n"
     ]
    }
   ],
   "source": [
    "lista = []\n",
    "for i in range(0, 5):\n",
    "    num = int(input(\"Digite um número\"))\n",
    "    lista.append(num)\n",
    "print(lista[::-1])\n"
   ]
  },
  {
   "cell_type": "markdown",
   "metadata": {
    "id": "eIXd_z1lMgeD"
   },
   "source": [
    "#### Questão 5\n",
    "Faça um programa que, ao inserir um número qualquer, criará uma lista contendo todos os números primos entre 1 e o número digitado."
   ]
  },
  {
   "cell_type": "code",
   "execution_count": null,
   "metadata": {
    "id": "rj_6GHstMgeE"
   },
   "outputs": [
    {
     "name": "stdout",
     "output_type": "stream",
     "text": [
      "[1, 2, 3, 5, 7, 9, 11]\n"
     ]
    }
   ],
   "source": [
    "num = int(input(\"Digite um número\"))\n",
    "lista_primo = []\n",
    "primo = True\n",
    "for  i in range(2, num):\n",
    "    for n in range(i-1, 1, -1):\n",
    "        if i % n == 0:\n",
    "            primo = False\n",
    "        else:\n",
    "            primo = True\n",
    "    if primo:\n",
    "        lista_primo.append(i)\n",
    "\n",
    "print(lista_primo)"
   ]
  },
  {
   "cell_type": "markdown",
   "metadata": {
    "id": "zrbz3ENlMgeE"
   },
   "source": [
    "#### Questão 6\n",
    "Escreva um programa que peça uma data informando o dia, mês e ano e determine se ela é uma data válida para uma análise."
   ]
  },
  {
   "cell_type": "code",
   "execution_count": 73,
   "metadata": {
    "id": "0eYA8UjTMgeE"
   },
   "outputs": [
    {
     "name": "stdout",
     "output_type": "stream",
     "text": [
      "data invalida!\n"
     ]
    }
   ],
   "source": [
    "dia = int(input(\"Digite o dia\"))\n",
    "mes = int(input(\"Digite o mês\"))\n",
    "ano =  int(input(\"Digite o ano\"))\n",
    "\n",
    "if mes == 0:\n",
    "    if ano % 4 == 0 and (ano % 400 == 0 or ano % 100 != 0):\n",
    "        fevereiro = 29\n",
    "    else:\n",
    "        fevereiro = 28\n",
    "    if dia >= 1 and dia <= fevereiro:\n",
    "        print(\"data valida!\")\n",
    "    else:\n",
    "        print(\"data invalida!\")\n",
    "elif mes in [1, 3, 5, 7, 8, 10, 12]:\n",
    "    if dia >= 1 and dia <= 31:\n",
    "        print(\"data valida!\")\n",
    "    else:\n",
    "        print(\"data valida\")\n",
    "elif mes in [4, 6, 9, 11]:\n",
    "    if dia >= 1 and dia <= 30:\n",
    "        print(\"data valida!\")\n",
    "    else:\n",
    "        print(\"data invalida!\")\n",
    "else:\n",
    "    print(\"data invalida!\")\n",
    "    \n",
    "    "
   ]
  },
  {
   "cell_type": "markdown",
   "metadata": {
    "id": "ut_4VHdGMgeE"
   },
   "source": [
    "### Momento dos projetos"
   ]
  },
  {
   "cell_type": "markdown",
   "metadata": {
    "id": "G86Z0vD_MgeE"
   },
   "source": [
    "#### Questão 7\n",
    "Para um estudo envolvendo o nível de multiplicação de bactérias em uma colônia, foi coletado o número de bactérias multiplicadas por dia, com base em um processo de duplicação diária e pode ser observado a seguir: `[1.2, 2.1, 3.3, 5.0, 7.8, 11.3, 16.6, 25.1, 37.8, 56.9]`. Tendo esses valores, faça um código que gere uma lista contendo o percentual de crescimento de bactérias por dia, comparando o número de bactérias em cada dia com o número de bactérias do dia anterior. Dica: para calcular o percentual de crescimento usamos a seguinte equação: `100 * (amostra_atual - amostra_passada) / (amostra_passada)`."
   ]
  },
  {
   "cell_type": "code",
   "execution_count": null,
   "metadata": {
    "id": "PXNO_CFkMgeE"
   },
   "outputs": [
    {
     "name": "stdout",
     "output_type": "stream",
     "text": [
      "[75.00000000000001, 57.142857142857125, 51.51515151515153, 56.0, 44.87179487179489, 46.90265486725664, 51.20481927710843, 50.59760956175297, 50.52910052910054]\n",
      "9\n"
     ]
    }
   ],
   "source": [
    "amostra = [1.2, 2.1, 3.3, 5.0, 7.8, 11.3, 16.6, 25.1, 37.8, 56.9]\n",
    "lista_per_crescimento = []\n",
    "\n",
    "for i in range(1, len(amostra)):\n",
    "    per_crescimento = 100 * (amostra[i] - amostra[i - 1])/amostra[i-1]\n",
    "    lista_per_crescimento.append(per_crescimento)\n",
    "print(lista_per_crescimento)"
   ]
  },
  {
   "cell_type": "markdown",
   "metadata": {
    "id": "p4nxogpnMgeE"
   },
   "source": [
    "#### Questão 8\n",
    "Para uma seleção de produtos alimentícios, precisamos separar o conjunto de IDs dados por números inteiros, sabendo que os produtos com ID par são doces e os com ID ímpar são amargos. Monte um código que colete 10 IDs. Depois, calcule e mostre a quantidade de produtos doces e amargos."
   ]
  },
  {
   "cell_type": "code",
   "execution_count": 78,
   "metadata": {
    "id": "WqjO2SZkMgeE"
   },
   "outputs": [
    {
     "name": "stdout",
     "output_type": "stream",
     "text": [
      "Quantidade de produtos doces: 4\n",
      "Quantidade de produtos amargos: 6\n"
     ]
    }
   ],
   "source": [
    "lista_produtos = []\n",
    "produtos_doces = []\n",
    "produtos_amargos = []\n",
    "\n",
    "for i in range(0, 10):\n",
    "    id_produto = int(input(\"Digite o id do produto\"))\n",
    "    lista_produtos.append(id_produto)\n",
    "for id in lista_produtos:\n",
    "    if id % 2 == 0:\n",
    "        produtos_doces.append(id)\n",
    "    else:\n",
    "        produtos_amargos.append(id)\n",
    "\n",
    "print(f\"Quantidade de produtos doces: {len(produtos_doces)}\")\n",
    "print(f\"Quantidade de produtos amargos: {len(produtos_amargos)}\")"
   ]
  },
  {
   "cell_type": "markdown",
   "metadata": {
    "id": "t5OrLxV6MgeE"
   },
   "source": [
    "#### Questão 9\n",
    "Desenvolva um programa que informa a nota de um aluno de acordo com suas respostas. Ele deve pedir a resposta de um aluno para cada questão e é preciso verificar se a resposta foi igual ao gabarito. Cada questão vale um ponto e existem alternativas:  A, B, C ou D.\n",
    "```\n",
    "Gabarito da Prova:\n",
    "01 - D\n",
    "02 - A\n",
    "03 - C\n",
    "04 - B\n",
    "05 - A\n",
    "06 - D\n",
    "07 - C\n",
    "08 - C\n",
    "09 - A\n",
    "10 - B\n",
    "```"
   ]
  },
  {
   "cell_type": "code",
   "execution_count": null,
   "metadata": {
    "id": "ytIQDJrQMgeE"
   },
   "outputs": [
    {
     "name": "stdout",
     "output_type": "stream",
     "text": [
      "A sua nota no teste de acordo com as suas respostas foi 7\n"
     ]
    }
   ],
   "source": [
    "respostas = []\n",
    "gabarito = [\"D\", \"A\", \"C\", \"B\", \"A\", \"D\", \"C\", \"C\", \"A\", \"B\"]\n",
    "pontuacao = 0\n",
    "\n",
    "for i in range(0, 10):\n",
    "    resposta = input(f\"Digite a alternativa certa para a questão {i+1}? (A, B, C ou D)\")\n",
    "    respostas.append(resposta)\n",
    "\n",
    "for i, resposta in enumerate(respostas):\n",
    "    if resposta.upper() == gabarito[i]:\n",
    "        pontuacao += 1\n",
    "\n",
    "print(f\"A sua nota no teste de acordo com as suas respostas foi de {pontuacao} pontos\")"
   ]
  },
  {
   "cell_type": "markdown",
   "metadata": {
    "id": "aSBMzh-AMgeF"
   },
   "source": [
    "#### Questão 10\n",
    "Um instituto de meteorologia deseja fazer um estudo de temperatura média de cada mês do ano. Para isso, você precisa fazer um código que colete e armazene essas temperaturas médias em uma lista. Depois, calcule a média anual das temperaturas e mostre todas as temperaturas acima da média anual, e em que mês elas ocorreram, mostrando os meses por extenso: Janeiro, Fevereiro, etc."
   ]
  },
  {
   "cell_type": "code",
   "execution_count": 81,
   "metadata": {
    "id": "ftj04s2uMgeF"
   },
   "outputs": [
    {
     "name": "stdout",
     "output_type": "stream",
     "text": [
      "A temperatura média anual é de 16.916666666666668\n",
      "Temperaturas acima da média\n",
      "temperatura de 18.0 ocorrido no mês de Fevereiro\n",
      "temperatura de 25.0 ocorrido no mês de Março\n",
      "temperatura de 28.0 ocorrido no mês de Abril\n",
      "temperatura de 22.0 ocorrido no mês de Maio\n",
      "temperatura de 24.0 ocorrido no mês de Junho\n",
      "temperatura de 18.0 ocorrido no mês de Novembro\n"
     ]
    }
   ],
   "source": [
    "meses = [\"Janeiro\", \"Fevereiro\", \"Março\", \"Abril\", \"Maio\", \"Junho\",\n",
    "         \"Julho\", \"Agosto\", \"Setembro\", \"Outubro\", \"Novembro\", \"Dezembro\"]\n",
    "temperaturas = []\n",
    "\n",
    "for mes in meses:\n",
    "    temperatura = float(input(f\"Digite a temperatura média do mês de {mes}\"))\n",
    "    temperaturas.append(temperatura)\n",
    "\n",
    "media_anual = sum(temperaturas)/12\n",
    "\n",
    "print(f\"A temperatura média anual é de {media_anual}\")\n",
    "print(\"Temperaturas acima da média\")\n",
    "\n",
    "for i, temperatura in enumerate(temperaturas):\n",
    "    if temperatura > media_anual:\n",
    "        print(f\"temperatura de {temperatura} ocorrido no mês de {meses[i]}\")\n"
   ]
  },
  {
   "cell_type": "markdown",
   "metadata": {
    "id": "0X8S6s4jMgeF"
   },
   "source": [
    "#### Questão 11\n",
    "Uma empresa de e-commerce está interessada em analisar as vendas dos seus produtos. Os dados das vendas foram armazenados em um dicionário:\n",
    "```\n",
    "{'Produto A': 300, 'Produto B': 80, 'Produto C': 60,\n",
    " 'Produto D': 200, 'Produto E': 250, 'Produto F': 30}\n",
    "```\n",
    "Escreva um código que calcule o total de vendas e o produto mais vendido."
   ]
  },
  {
   "cell_type": "code",
   "execution_count": 85,
   "metadata": {
    "id": "Xa3DJLtFMgeF"
   },
   "outputs": [
    {
     "name": "stdout",
     "output_type": "stream",
     "text": [
      "Total das vendas 920\n",
      "O produto mais vendido foi Produto F\n"
     ]
    }
   ],
   "source": [
    "vendas = {'Produto A': 300, 'Produto B': 80, 'Produto C': 60,\n",
    " 'Produto D': 200, 'Produto E': 250, 'Produto F': 30}\n",
    "\n",
    "total_vendas = sum(vendas.values())\n",
    "produto_mais_vendido = max(vendas)\n",
    "\n",
    "print(f\"Total das vendas {total_vendas}\")\n",
    "print(f\"O produto mais vendido foi {produto_mais_vendido}\")"
   ]
  },
  {
   "cell_type": "markdown",
   "metadata": {
    "id": "nrEwf_1ZMgeF"
   },
   "source": [
    "#### Questão 12\n",
    "Uma pesquisa de mercado foi feita para decidir qual design de uma marca infantil mais agrada crianças. A pesquisa foi feita e o votos computados podem ser observados abaixo:\n",
    "```\n",
    "'''\n",
    "Tabela de votos da marca\n",
    "Design 1 - 1334 votos\n",
    "Design 2 - 982 votos\n",
    "Design 3 - 1751 votos\n",
    "Design 4 - 210 votos\n",
    "Design 5 - 1811 votos\n",
    "'''\n",
    "```\n",
    "Adapte os dados fornecidos a você para uma estrutura de dicionário e a partir dele, informe o design vencedor e a porcentagem de votos recebidos.\n"
   ]
  },
  {
   "cell_type": "code",
   "execution_count": 5,
   "metadata": {
    "id": "MRPcGR-_MgeF"
   },
   "outputs": [
    {
     "name": "stdout",
     "output_type": "stream",
     "text": [
      "O vencedor foi Design 5 com 1811 oque representa 29.75%\n"
     ]
    }
   ],
   "source": [
    "votos = {\"Design 1\": 1334, \"Design 2\": 982, \"Design 3\": 1751, \"Design 4\": 210, \"Design 5\": 1811}\n",
    "vencedor = max(votos, key=votos.get)\n",
    "porc_vencendor = (votos[vencedor] / sum(votos.values())) * 100\n",
    "print(f\"O vencedor foi {vencedor} com {votos[vencedor]} oque representa {porc_vencendor:.2f}%\")"
   ]
  },
  {
   "cell_type": "markdown",
   "metadata": {
    "id": "HRTFFzKIMgeF"
   },
   "source": [
    "#### Questão 13\n",
    "Os funcionários de um setor da empresa que você trabalha vão receber um abono correspondente a 10% do seu salário devido ao ótimo desempenho do time. O setor financeiro solicitou sua ajuda para a verificação das consequências financeiras que esse abono irá gerar nos recursos. Assim, foi encaminhada para você uma lista com os salários que receberão o abono: `[1172, 1644, 2617, 5130, 5532, 6341, 6650, 7238, 7685, 7782, 7903]`. O abono de cada funcionário não pode ser inferior a 200. Em código, transforme cada um dos salários em chaves de um dicionário e o abono de cada salário no elemento. Depois, informe o total de gastos com o abono, quantos funcionários receberam o abono mínimo e qual o maior valor de abono fornecido.\n"
   ]
  },
  {
   "cell_type": "code",
   "execution_count": 100,
   "metadata": {
    "id": "QsDSCua42bLB"
   },
   "outputs": [
    {
     "name": "stdout",
     "output_type": "stream",
     "text": [
      "O valor total gasto com abonos é de 6087.8\n",
      "No total 2 funcionários receberam o abono minimo\n",
      "O maior valor de abono fornecido é de 790.3000000000001\n"
     ]
    }
   ],
   "source": [
    "abonos = {}\n",
    "salarios = [1172, 1644, 2617, 5130, 5532, 6341, 6650, 7238, 7685, 7782, 7903]\n",
    "porcentagem = 0.10\n",
    "\n",
    "for salario in salarios:\n",
    "    abono = salario * porcentagem\n",
    "    if abono < 200:\n",
    "        abonos[salario] = 200\n",
    "        continue\n",
    "    abonos[salario] = abono\n",
    "\n",
    "total_gastos = sum(abonos.values())\n",
    "abono_min = abonos[min(abonos)]\n",
    "abono_max = abonos[max(abonos)]\n",
    "\n",
    "quantidade_min = list(abonos.values()).count(abono_min)\n",
    "\n",
    "print(f\"O valor total gasto com abonos é de {total_gastos}\")\n",
    "print(f\"No total {quantidade_min} funcionários receberam o abono minimo\")\n",
    "print(f\"O maior valor de abono fornecido é de {abono_max}\")"
   ]
  },
  {
   "cell_type": "markdown",
   "metadata": {
    "id": "6dEXZEwjMlWy"
   },
   "source": [
    "#### Questão 14\n",
    "Uma equipe de cientistas de dados está estudando a diversidade biológica em uma floresta. A equipe fez a coleta de informações sobre o número de espécies de plantas e animais em cada área da floresta e armazenaram essas informações em um dicionário. Nele, a chave descreve a área dos dados e os valores nas listas correspondem às espécies de plantas e animais nas áreas, respectivamente.\n",
    "```\n",
    "{'Área Norte': [2819, 7236],\n",
    " 'Área Leste': [1440, 9492],\n",
    " 'Área Sul': [5969, 7496],\n",
    " 'Área Oeste': [14446, 49688],\n",
    " 'Área Centro': [22558, 45148]}\n",
    "```\n",
    "Escreva um código para calcular a média de espécies por área e identificar a área com a maior diversidade biológica. Dica: use as funções built-in [`sum()`](https://docs.python.org/3/library/functions.html#sum) e [`len()`](https://docs.python.org/3/library/functions.html#len).\n"
   ]
  },
  {
   "cell_type": "code",
   "execution_count": 109,
   "metadata": {
    "id": "eQnOUDfYMlWy"
   },
   "outputs": [
    {
     "name": "stdout",
     "output_type": "stream",
     "text": [
      "Média de especies na Área Norte: 5027.5\n",
      "Média de especies na Área Leste: 5466.0\n",
      "Média de especies na Área Sul: 6732.5\n",
      "Média de especies na Área Oeste: 32067.0\n",
      "Média de especies na Área Centro: 33853.0\n",
      "A área com maior diversidade é a: Área Centro\n"
     ]
    }
   ],
   "source": [
    "dados = {\n",
    "    \"Área Norte\": [2819, 7236],\n",
    "    \"Área Leste\": [1440, 9492],\n",
    "    \"Área Sul\": [5969, 7496],\n",
    "    \"Área Oeste\": [14446, 49688],\n",
    "    \"Área Centro\": [22558, 45148],\n",
    "    }\n",
    "for dado in dados:\n",
    "    media = sum(dados[dado])/len(dados[dado])\n",
    "    print(f\"Média de especies na {dado}: {media}\")\n",
    "maior_diversidade = max(dados.values())\n",
    "area_mair_div = next((chave for chave, valor in dados.items() if valor == maior_diversidade), None)\n",
    "print(f\"A área com maior diversidade é a: {area_mair_div}\")\n"
   ]
  },
  {
   "cell_type": "markdown",
   "metadata": {
    "id": "r0RW2Sy_MlWy"
   },
   "source": [
    "#### Questão 15\n",
    "O setor de RH da sua empresa te pediu uma ajuda para analisar as idades dos funcionários de 4 setores da empresa. Para isso, ele te forneceu os seguintes dados:\n",
    "```\n",
    "{'Setor A': [22, 26, 30, 30, 35, 38, 40, 56, 57, 65],\n",
    " 'Setor B': [22, 24, 26, 33, 41, 49, 50, 54, 60, 64],\n",
    " 'Setor C': [23, 26, 26, 29, 34, 35, 36, 41, 52, 56],\n",
    " 'Setor D': [19, 20, 25, 27, 34, 39, 42, 44, 50, 65]}\n",
    "``` \n",
    "Sabendo que cada setor tem 10 funcionários, construa um código que calcule a média de idade de cada setor, a idade média geral entre todos os setores e quantas pessoas estão acima da idade média geral.\n"
   ]
  },
  {
   "cell_type": "code",
   "execution_count": 119,
   "metadata": {
    "id": "wCiwyKP3MmTz"
   },
   "outputs": [
    {
     "name": "stdout",
     "output_type": "stream",
     "text": [
      "média de idades do Setor A: 39.9\n",
      "média de idades do Setor B: 42.3\n",
      "média de idades do Setor C: 35.8\n",
      "média de idades do Setor D: 36.5\n",
      "A idade média geral entre todos os setores é 38.62\n",
      "No total 18 pessoas estão acima da idade média geral\n"
     ]
    }
   ],
   "source": [
    "setores = {\n",
    "    \"Setor A\": [22, 26, 30, 30, 35, 38, 40, 56, 57, 65],\n",
    "    \"Setor B\": [22, 24, 26, 33, 41, 49, 50, 54, 60, 64],\n",
    "    \"Setor C\": [23, 26, 26, 29, 34, 35, 36, 41, 52, 56],\n",
    "    \"Setor D\": [19, 20, 25, 27, 34, 39, 42, 44, 50, 65],\n",
    "}\n",
    "soma = 0\n",
    "for setor in setores:\n",
    "    media = sum(setores[setor])/10\n",
    "    print(f\"média de idades do {setor}: {media}\")\n",
    "    soma += sum(setores[setor])\n",
    "media_geral = soma /(len(setores) * 10)\n",
    "print(f\"A idade média geral entre todos os setores é {media_geral:.2f}\")\n",
    "qtd_acima_media = 0\n",
    "for setor in setores:\n",
    "    qtd_acima_media += sum(1 for idade in setores[setor] if idade > media_geral)\n",
    "print(f\"No total {qtd_acima_media} pessoas estão acima da idade média geral\")\n",
    "    "
   ]
  }
 ],
 "metadata": {
  "colab": {
   "authorship_tag": "ABX9TyNAcHMa4C+Q6J7M1CkYm1Tn",
   "provenance": [],
   "toc_visible": true
  },
  "kernelspec": {
   "display_name": "venv",
   "language": "python",
   "name": "python3"
  },
  "language_info": {
   "codemirror_mode": {
    "name": "ipython",
    "version": 3
   },
   "file_extension": ".py",
   "mimetype": "text/x-python",
   "name": "python",
   "nbconvert_exporter": "python",
   "pygments_lexer": "ipython3",
   "version": "3.12.4"
  }
 },
 "nbformat": 4,
 "nbformat_minor": 0
}
